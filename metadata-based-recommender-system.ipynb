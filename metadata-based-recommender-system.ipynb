{
 "cells": [
  {
   "cell_type": "markdown",
   "id": "8e786244",
   "metadata": {
    "papermill": {
     "duration": 0.053279,
     "end_time": "2021-09-19T14:18:41.016385",
     "exception": false,
     "start_time": "2021-09-19T14:18:40.963106",
     "status": "completed"
    },
    "tags": []
   },
   "source": [
    "# Movies -Metadata Based- Recommender System"
   ]
  },
  {
   "cell_type": "markdown",
   "id": "f63ba2eb",
   "metadata": {
    "papermill": {
     "duration": 0.048698,
     "end_time": "2021-09-19T14:18:41.114717",
     "exception": false,
     "start_time": "2021-09-19T14:18:41.066019",
     "status": "completed"
    },
    "tags": []
   },
   "source": [
    "## Introduction\n",
    "In this notebook I will be creating a recommender system based on metadata of movies. Besides movies data, we will use crew, cast data from credits dataset and keywords of each movie from the keywords dataset. Also, we will filter the results based on the ratings in the ratings dataset, so that only good movies will show up as recommended.\n",
    "### Plan:\n",
    "1- Data preprocessing and visualization: Exploring data and understanding what it can offer is important before starting any data science project. We will have to make some cleaning to the data in order to create the recommender function.\n",
    "<br/>\n",
    "2- Creating the recommender system."
   ]
  },
  {
   "cell_type": "markdown",
   "id": "68978cb3",
   "metadata": {
    "execution": {
     "iopub.execute_input": "2021-09-19T13:45:55.851729Z",
     "iopub.status.busy": "2021-09-19T13:45:55.850878Z",
     "iopub.status.idle": "2021-09-19T13:45:55.854729Z",
     "shell.execute_reply": "2021-09-19T13:45:55.853846Z",
     "shell.execute_reply.started": "2021-09-19T13:45:55.851692Z"
    },
    "papermill": {
     "duration": 0.047518,
     "end_time": "2021-09-19T14:18:41.210678",
     "exception": false,
     "start_time": "2021-09-19T14:18:41.163160",
     "status": "completed"
    },
    "tags": []
   },
   "source": [
    "` Note: I am using small dataset version because of the computing power, the same code could be applied to larger datasets `"
   ]
  },
  {
   "cell_type": "code",
   "execution_count": 1,
   "id": "ae7a1b7c",
   "metadata": {
    "_cell_guid": "b1076dfc-b9ad-4769-8c92-a6c4dae69d19",
    "_uuid": "8f2839f25d086af736a60e9eeb907d3b93b6e0e5",
    "execution": {
     "iopub.execute_input": "2021-09-19T14:18:41.325879Z",
     "iopub.status.busy": "2021-09-19T14:18:41.325222Z",
     "iopub.status.idle": "2021-09-19T14:18:42.774643Z",
     "shell.execute_reply": "2021-09-19T14:18:42.775254Z",
     "shell.execute_reply.started": "2021-09-19T13:40:28.285520Z"
    },
    "papermill": {
     "duration": 1.516685,
     "end_time": "2021-09-19T14:18:42.775625",
     "exception": false,
     "start_time": "2021-09-19T14:18:41.258940",
     "status": "completed"
    },
    "tags": []
   },
   "outputs": [
    {
     "name": "stdout",
     "output_type": "stream",
     "text": [
      "/kaggle/input/the-movies-dataset/ratings.csv\n",
      "/kaggle/input/the-movies-dataset/links_small.csv\n",
      "/kaggle/input/the-movies-dataset/credits.csv\n",
      "/kaggle/input/the-movies-dataset/keywords.csv\n",
      "/kaggle/input/the-movies-dataset/movies_metadata.csv\n",
      "/kaggle/input/the-movies-dataset/ratings_small.csv\n",
      "/kaggle/input/the-movies-dataset/links.csv\n"
     ]
    }
   ],
   "source": [
    "%matplotlib inline\n",
    "import pandas as pd\n",
    "import numpy as np \n",
    "import os\n",
    "\n",
    "from scipy import stats\n",
    "from ast import literal_eval\n",
    "\n",
    "from sklearn.feature_extraction.text import TfidfVectorizer, CountVectorizer\n",
    "from sklearn.metrics.pairwise import linear_kernel, cosine_similarity\n",
    "\n",
    "from nltk.stem.snowball import SnowballStemmer\n",
    "from nltk.stem.wordnet import WordNetLemmatizer\n",
    "from nltk.corpus import wordnet\n",
    "\n",
    "for dirname, _, filenames in os.walk('/kaggle/input'):\n",
    "    for filename in filenames:\n",
    "        print(os.path.join(dirname, filename))"
   ]
  },
  {
   "cell_type": "code",
   "execution_count": 2,
   "id": "0a41cd46",
   "metadata": {
    "execution": {
     "iopub.execute_input": "2021-09-19T14:18:42.880449Z",
     "iopub.status.busy": "2021-09-19T14:18:42.879705Z",
     "iopub.status.idle": "2021-09-19T14:18:43.203017Z",
     "shell.execute_reply": "2021-09-19T14:18:43.203618Z",
     "shell.execute_reply.started": "2021-09-19T13:40:28.300906Z"
    },
    "papermill": {
     "duration": 0.377557,
     "end_time": "2021-09-19T14:18:43.203845",
     "exception": false,
     "start_time": "2021-09-19T14:18:42.826288",
     "status": "completed"
    },
    "tags": []
   },
   "outputs": [],
   "source": [
    "import matplotlib.pyplot as plt\n",
    "import seaborn as sns\n",
    "plt.style.use('ggplot')"
   ]
  },
  {
   "cell_type": "markdown",
   "id": "a116701d",
   "metadata": {
    "papermill": {
     "duration": 0.051754,
     "end_time": "2021-09-19T14:18:43.306862",
     "exception": false,
     "start_time": "2021-09-19T14:18:43.255108",
     "status": "completed"
    },
    "tags": []
   },
   "source": [
    "Starting with import the first dataset, movies metadata:"
   ]
  },
  {
   "cell_type": "code",
   "execution_count": 3,
   "id": "6bb60c3d",
   "metadata": {
    "execution": {
     "iopub.execute_input": "2021-09-19T14:18:43.413199Z",
     "iopub.status.busy": "2021-09-19T14:18:43.412460Z",
     "iopub.status.idle": "2021-09-19T14:18:44.786638Z",
     "shell.execute_reply": "2021-09-19T14:18:44.787242Z",
     "shell.execute_reply.started": "2021-09-19T13:40:28.305965Z"
    },
    "papermill": {
     "duration": 1.430058,
     "end_time": "2021-09-19T14:18:44.787450",
     "exception": false,
     "start_time": "2021-09-19T14:18:43.357392",
     "status": "completed"
    },
    "tags": []
   },
   "outputs": [
    {
     "name": "stderr",
     "output_type": "stream",
     "text": [
      "/opt/conda/lib/python3.7/site-packages/IPython/core/interactiveshell.py:3441: DtypeWarning: Columns (10) have mixed types.Specify dtype option on import or set low_memory=False.\n",
      "  exec(code_obj, self.user_global_ns, self.user_ns)\n"
     ]
    }
   ],
   "source": [
    "movies = pd.read_csv('/kaggle/input/the-movies-dataset/movies_metadata.csv')"
   ]
  },
  {
   "cell_type": "markdown",
   "id": "a77099a9",
   "metadata": {
    "papermill": {
     "duration": 0.049204,
     "end_time": "2021-09-19T14:18:44.886044",
     "exception": false,
     "start_time": "2021-09-19T14:18:44.836840",
     "status": "completed"
    },
    "tags": []
   },
   "source": [
    "## Data Visualization and Pre-processing"
   ]
  },
  {
   "cell_type": "code",
   "execution_count": 4,
   "id": "a4dab035",
   "metadata": {
    "execution": {
     "iopub.execute_input": "2021-09-19T14:18:44.990770Z",
     "iopub.status.busy": "2021-09-19T14:18:44.990008Z",
     "iopub.status.idle": "2021-09-19T14:18:45.027133Z",
     "shell.execute_reply": "2021-09-19T14:18:45.027632Z",
     "shell.execute_reply.started": "2021-09-19T13:40:29.037582Z"
    },
    "papermill": {
     "duration": 0.092493,
     "end_time": "2021-09-19T14:18:45.027856",
     "exception": false,
     "start_time": "2021-09-19T14:18:44.935363",
     "status": "completed"
    },
    "tags": []
   },
   "outputs": [
    {
     "data": {
      "text/html": [
       "<div>\n",
       "<style scoped>\n",
       "    .dataframe tbody tr th:only-of-type {\n",
       "        vertical-align: middle;\n",
       "    }\n",
       "\n",
       "    .dataframe tbody tr th {\n",
       "        vertical-align: top;\n",
       "    }\n",
       "\n",
       "    .dataframe thead th {\n",
       "        text-align: right;\n",
       "    }\n",
       "</style>\n",
       "<table border=\"1\" class=\"dataframe\">\n",
       "  <thead>\n",
       "    <tr style=\"text-align: right;\">\n",
       "      <th></th>\n",
       "      <th>adult</th>\n",
       "      <th>belongs_to_collection</th>\n",
       "      <th>budget</th>\n",
       "      <th>genres</th>\n",
       "      <th>homepage</th>\n",
       "      <th>id</th>\n",
       "      <th>imdb_id</th>\n",
       "      <th>original_language</th>\n",
       "      <th>original_title</th>\n",
       "      <th>overview</th>\n",
       "      <th>popularity</th>\n",
       "      <th>poster_path</th>\n",
       "      <th>production_companies</th>\n",
       "      <th>production_countries</th>\n",
       "      <th>release_date</th>\n",
       "      <th>revenue</th>\n",
       "      <th>runtime</th>\n",
       "      <th>spoken_languages</th>\n",
       "      <th>status</th>\n",
       "      <th>tagline</th>\n",
       "      <th>title</th>\n",
       "      <th>video</th>\n",
       "      <th>vote_average</th>\n",
       "      <th>vote_count</th>\n",
       "    </tr>\n",
       "  </thead>\n",
       "  <tbody>\n",
       "    <tr>\n",
       "      <th>0</th>\n",
       "      <td>False</td>\n",
       "      <td>{'id': 10194, 'name': 'Toy Story Collection', ...</td>\n",
       "      <td>30000000</td>\n",
       "      <td>[{'id': 16, 'name': 'Animation'}, {'id': 35, '...</td>\n",
       "      <td>http://toystory.disney.com/toy-story</td>\n",
       "      <td>862</td>\n",
       "      <td>tt0114709</td>\n",
       "      <td>en</td>\n",
       "      <td>Toy Story</td>\n",
       "      <td>Led by Woody, Andy's toys live happily in his ...</td>\n",
       "      <td>21.946943</td>\n",
       "      <td>/rhIRbceoE9lR4veEXuwCC2wARtG.jpg</td>\n",
       "      <td>[{'name': 'Pixar Animation Studios', 'id': 3}]</td>\n",
       "      <td>[{'iso_3166_1': 'US', 'name': 'United States o...</td>\n",
       "      <td>1995-10-30</td>\n",
       "      <td>373554033.0</td>\n",
       "      <td>81.0</td>\n",
       "      <td>[{'iso_639_1': 'en', 'name': 'English'}]</td>\n",
       "      <td>Released</td>\n",
       "      <td>NaN</td>\n",
       "      <td>Toy Story</td>\n",
       "      <td>False</td>\n",
       "      <td>7.7</td>\n",
       "      <td>5415.0</td>\n",
       "    </tr>\n",
       "    <tr>\n",
       "      <th>1</th>\n",
       "      <td>False</td>\n",
       "      <td>NaN</td>\n",
       "      <td>65000000</td>\n",
       "      <td>[{'id': 12, 'name': 'Adventure'}, {'id': 14, '...</td>\n",
       "      <td>NaN</td>\n",
       "      <td>8844</td>\n",
       "      <td>tt0113497</td>\n",
       "      <td>en</td>\n",
       "      <td>Jumanji</td>\n",
       "      <td>When siblings Judy and Peter discover an encha...</td>\n",
       "      <td>17.015539</td>\n",
       "      <td>/vzmL6fP7aPKNKPRTFnZmiUfciyV.jpg</td>\n",
       "      <td>[{'name': 'TriStar Pictures', 'id': 559}, {'na...</td>\n",
       "      <td>[{'iso_3166_1': 'US', 'name': 'United States o...</td>\n",
       "      <td>1995-12-15</td>\n",
       "      <td>262797249.0</td>\n",
       "      <td>104.0</td>\n",
       "      <td>[{'iso_639_1': 'en', 'name': 'English'}, {'iso...</td>\n",
       "      <td>Released</td>\n",
       "      <td>Roll the dice and unleash the excitement!</td>\n",
       "      <td>Jumanji</td>\n",
       "      <td>False</td>\n",
       "      <td>6.9</td>\n",
       "      <td>2413.0</td>\n",
       "    </tr>\n",
       "    <tr>\n",
       "      <th>2</th>\n",
       "      <td>False</td>\n",
       "      <td>{'id': 119050, 'name': 'Grumpy Old Men Collect...</td>\n",
       "      <td>0</td>\n",
       "      <td>[{'id': 10749, 'name': 'Romance'}, {'id': 35, ...</td>\n",
       "      <td>NaN</td>\n",
       "      <td>15602</td>\n",
       "      <td>tt0113228</td>\n",
       "      <td>en</td>\n",
       "      <td>Grumpier Old Men</td>\n",
       "      <td>A family wedding reignites the ancient feud be...</td>\n",
       "      <td>11.7129</td>\n",
       "      <td>/6ksm1sjKMFLbO7UY2i6G1ju9SML.jpg</td>\n",
       "      <td>[{'name': 'Warner Bros.', 'id': 6194}, {'name'...</td>\n",
       "      <td>[{'iso_3166_1': 'US', 'name': 'United States o...</td>\n",
       "      <td>1995-12-22</td>\n",
       "      <td>0.0</td>\n",
       "      <td>101.0</td>\n",
       "      <td>[{'iso_639_1': 'en', 'name': 'English'}]</td>\n",
       "      <td>Released</td>\n",
       "      <td>Still Yelling. Still Fighting. Still Ready for...</td>\n",
       "      <td>Grumpier Old Men</td>\n",
       "      <td>False</td>\n",
       "      <td>6.5</td>\n",
       "      <td>92.0</td>\n",
       "    </tr>\n",
       "    <tr>\n",
       "      <th>3</th>\n",
       "      <td>False</td>\n",
       "      <td>NaN</td>\n",
       "      <td>16000000</td>\n",
       "      <td>[{'id': 35, 'name': 'Comedy'}, {'id': 18, 'nam...</td>\n",
       "      <td>NaN</td>\n",
       "      <td>31357</td>\n",
       "      <td>tt0114885</td>\n",
       "      <td>en</td>\n",
       "      <td>Waiting to Exhale</td>\n",
       "      <td>Cheated on, mistreated and stepped on, the wom...</td>\n",
       "      <td>3.859495</td>\n",
       "      <td>/16XOMpEaLWkrcPqSQqhTmeJuqQl.jpg</td>\n",
       "      <td>[{'name': 'Twentieth Century Fox Film Corporat...</td>\n",
       "      <td>[{'iso_3166_1': 'US', 'name': 'United States o...</td>\n",
       "      <td>1995-12-22</td>\n",
       "      <td>81452156.0</td>\n",
       "      <td>127.0</td>\n",
       "      <td>[{'iso_639_1': 'en', 'name': 'English'}]</td>\n",
       "      <td>Released</td>\n",
       "      <td>Friends are the people who let you be yourself...</td>\n",
       "      <td>Waiting to Exhale</td>\n",
       "      <td>False</td>\n",
       "      <td>6.1</td>\n",
       "      <td>34.0</td>\n",
       "    </tr>\n",
       "    <tr>\n",
       "      <th>4</th>\n",
       "      <td>False</td>\n",
       "      <td>{'id': 96871, 'name': 'Father of the Bride Col...</td>\n",
       "      <td>0</td>\n",
       "      <td>[{'id': 35, 'name': 'Comedy'}]</td>\n",
       "      <td>NaN</td>\n",
       "      <td>11862</td>\n",
       "      <td>tt0113041</td>\n",
       "      <td>en</td>\n",
       "      <td>Father of the Bride Part II</td>\n",
       "      <td>Just when George Banks has recovered from his ...</td>\n",
       "      <td>8.387519</td>\n",
       "      <td>/e64sOI48hQXyru7naBFyssKFxVd.jpg</td>\n",
       "      <td>[{'name': 'Sandollar Productions', 'id': 5842}...</td>\n",
       "      <td>[{'iso_3166_1': 'US', 'name': 'United States o...</td>\n",
       "      <td>1995-02-10</td>\n",
       "      <td>76578911.0</td>\n",
       "      <td>106.0</td>\n",
       "      <td>[{'iso_639_1': 'en', 'name': 'English'}]</td>\n",
       "      <td>Released</td>\n",
       "      <td>Just When His World Is Back To Normal... He's ...</td>\n",
       "      <td>Father of the Bride Part II</td>\n",
       "      <td>False</td>\n",
       "      <td>5.7</td>\n",
       "      <td>173.0</td>\n",
       "    </tr>\n",
       "  </tbody>\n",
       "</table>\n",
       "</div>"
      ],
      "text/plain": [
       "   adult                              belongs_to_collection    budget  \\\n",
       "0  False  {'id': 10194, 'name': 'Toy Story Collection', ...  30000000   \n",
       "1  False                                                NaN  65000000   \n",
       "2  False  {'id': 119050, 'name': 'Grumpy Old Men Collect...         0   \n",
       "3  False                                                NaN  16000000   \n",
       "4  False  {'id': 96871, 'name': 'Father of the Bride Col...         0   \n",
       "\n",
       "                                              genres  \\\n",
       "0  [{'id': 16, 'name': 'Animation'}, {'id': 35, '...   \n",
       "1  [{'id': 12, 'name': 'Adventure'}, {'id': 14, '...   \n",
       "2  [{'id': 10749, 'name': 'Romance'}, {'id': 35, ...   \n",
       "3  [{'id': 35, 'name': 'Comedy'}, {'id': 18, 'nam...   \n",
       "4                     [{'id': 35, 'name': 'Comedy'}]   \n",
       "\n",
       "                               homepage     id    imdb_id original_language  \\\n",
       "0  http://toystory.disney.com/toy-story    862  tt0114709                en   \n",
       "1                                   NaN   8844  tt0113497                en   \n",
       "2                                   NaN  15602  tt0113228                en   \n",
       "3                                   NaN  31357  tt0114885                en   \n",
       "4                                   NaN  11862  tt0113041                en   \n",
       "\n",
       "                original_title  \\\n",
       "0                    Toy Story   \n",
       "1                      Jumanji   \n",
       "2             Grumpier Old Men   \n",
       "3            Waiting to Exhale   \n",
       "4  Father of the Bride Part II   \n",
       "\n",
       "                                            overview popularity  \\\n",
       "0  Led by Woody, Andy's toys live happily in his ...  21.946943   \n",
       "1  When siblings Judy and Peter discover an encha...  17.015539   \n",
       "2  A family wedding reignites the ancient feud be...    11.7129   \n",
       "3  Cheated on, mistreated and stepped on, the wom...   3.859495   \n",
       "4  Just when George Banks has recovered from his ...   8.387519   \n",
       "\n",
       "                        poster_path  \\\n",
       "0  /rhIRbceoE9lR4veEXuwCC2wARtG.jpg   \n",
       "1  /vzmL6fP7aPKNKPRTFnZmiUfciyV.jpg   \n",
       "2  /6ksm1sjKMFLbO7UY2i6G1ju9SML.jpg   \n",
       "3  /16XOMpEaLWkrcPqSQqhTmeJuqQl.jpg   \n",
       "4  /e64sOI48hQXyru7naBFyssKFxVd.jpg   \n",
       "\n",
       "                                production_companies  \\\n",
       "0     [{'name': 'Pixar Animation Studios', 'id': 3}]   \n",
       "1  [{'name': 'TriStar Pictures', 'id': 559}, {'na...   \n",
       "2  [{'name': 'Warner Bros.', 'id': 6194}, {'name'...   \n",
       "3  [{'name': 'Twentieth Century Fox Film Corporat...   \n",
       "4  [{'name': 'Sandollar Productions', 'id': 5842}...   \n",
       "\n",
       "                                production_countries release_date  \\\n",
       "0  [{'iso_3166_1': 'US', 'name': 'United States o...   1995-10-30   \n",
       "1  [{'iso_3166_1': 'US', 'name': 'United States o...   1995-12-15   \n",
       "2  [{'iso_3166_1': 'US', 'name': 'United States o...   1995-12-22   \n",
       "3  [{'iso_3166_1': 'US', 'name': 'United States o...   1995-12-22   \n",
       "4  [{'iso_3166_1': 'US', 'name': 'United States o...   1995-02-10   \n",
       "\n",
       "       revenue  runtime                                   spoken_languages  \\\n",
       "0  373554033.0     81.0           [{'iso_639_1': 'en', 'name': 'English'}]   \n",
       "1  262797249.0    104.0  [{'iso_639_1': 'en', 'name': 'English'}, {'iso...   \n",
       "2          0.0    101.0           [{'iso_639_1': 'en', 'name': 'English'}]   \n",
       "3   81452156.0    127.0           [{'iso_639_1': 'en', 'name': 'English'}]   \n",
       "4   76578911.0    106.0           [{'iso_639_1': 'en', 'name': 'English'}]   \n",
       "\n",
       "     status                                            tagline  \\\n",
       "0  Released                                                NaN   \n",
       "1  Released          Roll the dice and unleash the excitement!   \n",
       "2  Released  Still Yelling. Still Fighting. Still Ready for...   \n",
       "3  Released  Friends are the people who let you be yourself...   \n",
       "4  Released  Just When His World Is Back To Normal... He's ...   \n",
       "\n",
       "                         title  video  vote_average  vote_count  \n",
       "0                    Toy Story  False           7.7      5415.0  \n",
       "1                      Jumanji  False           6.9      2413.0  \n",
       "2             Grumpier Old Men  False           6.5        92.0  \n",
       "3            Waiting to Exhale  False           6.1        34.0  \n",
       "4  Father of the Bride Part II  False           5.7       173.0  "
      ]
     },
     "execution_count": 4,
     "metadata": {},
     "output_type": "execute_result"
    }
   ],
   "source": [
    "pd.set_option('display.max_columns', None)\n",
    "movies.head()"
   ]
  },
  {
   "cell_type": "markdown",
   "id": "a922809c",
   "metadata": {
    "papermill": {
     "duration": 0.050291,
     "end_time": "2021-09-19T14:18:45.128716",
     "exception": false,
     "start_time": "2021-09-19T14:18:45.078425",
     "status": "completed"
    },
    "tags": []
   },
   "source": [
    "There are multiple columns in this dataset that could be used to create a recommender system, in this notebook we will take into consideration the genre of the movie, the title, overview, tagline, vote_average and vote_count."
   ]
  },
  {
   "cell_type": "code",
   "execution_count": 5,
   "id": "5106d9b9",
   "metadata": {
    "execution": {
     "iopub.execute_input": "2021-09-19T14:18:45.233505Z",
     "iopub.status.busy": "2021-09-19T14:18:45.232643Z",
     "iopub.status.idle": "2021-09-19T14:18:45.247217Z",
     "shell.execute_reply": "2021-09-19T14:18:45.247771Z",
     "shell.execute_reply.started": "2021-09-19T13:40:29.062378Z"
    },
    "papermill": {
     "duration": 0.068947,
     "end_time": "2021-09-19T14:18:45.247965",
     "exception": false,
     "start_time": "2021-09-19T14:18:45.179018",
     "status": "completed"
    },
    "tags": []
   },
   "outputs": [
    {
     "data": {
      "text/plain": [
       "array(['False', 'True', ' - Written by Ørnås',\n",
       "       ' Rune Balot goes to a casino connected to the October corporation to try to wrap up her case once and for all.',\n",
       "       ' Avalanche Sharks tells the story of a bikini contest that turns into a horrifying affair when it is hit by a shark avalanche.'],\n",
       "      dtype=object)"
      ]
     },
     "execution_count": 5,
     "metadata": {},
     "output_type": "execute_result"
    }
   ],
   "source": [
    "movies['adult'].unique()"
   ]
  },
  {
   "cell_type": "code",
   "execution_count": 6,
   "id": "ad723af2",
   "metadata": {
    "execution": {
     "iopub.execute_input": "2021-09-19T14:18:45.356717Z",
     "iopub.status.busy": "2021-09-19T14:18:45.353312Z",
     "iopub.status.idle": "2021-09-19T14:18:45.380876Z",
     "shell.execute_reply": "2021-09-19T14:18:45.380323Z",
     "shell.execute_reply.started": "2021-09-19T13:40:29.076979Z"
    },
    "papermill": {
     "duration": 0.082361,
     "end_time": "2021-09-19T14:18:45.381039",
     "exception": false,
     "start_time": "2021-09-19T14:18:45.298678",
     "status": "completed"
    },
    "tags": []
   },
   "outputs": [
    {
     "data": {
      "text/plain": [
       "array(['False', 'True', 'Else'], dtype=object)"
      ]
     },
     "execution_count": 6,
     "metadata": {},
     "output_type": "execute_result"
    }
   ],
   "source": [
    "def fix_adult(x):\n",
    "    if x != 'True' and x != 'False':\n",
    "        x = 'Else'\n",
    "    else:\n",
    "        pass\n",
    "    return x\n",
    "movies['adult'] = movies['adult'].apply(fix_adult)\n",
    "movies['adult'].unique()"
   ]
  },
  {
   "cell_type": "code",
   "execution_count": 7,
   "id": "3569ba3b",
   "metadata": {
    "execution": {
     "iopub.execute_input": "2021-09-19T14:18:45.491305Z",
     "iopub.status.busy": "2021-09-19T14:18:45.490585Z",
     "iopub.status.idle": "2021-09-19T14:18:45.502059Z",
     "shell.execute_reply": "2021-09-19T14:18:45.502505Z",
     "shell.execute_reply.started": "2021-09-19T13:40:29.099684Z"
    },
    "papermill": {
     "duration": 0.070301,
     "end_time": "2021-09-19T14:18:45.502702",
     "exception": false,
     "start_time": "2021-09-19T14:18:45.432401",
     "status": "completed"
    },
    "tags": []
   },
   "outputs": [
    {
     "data": {
      "text/plain": [
       "False    45454\n",
       "True         9\n",
       "Else         3\n",
       "Name: adult, dtype: int64"
      ]
     },
     "execution_count": 7,
     "metadata": {},
     "output_type": "execute_result"
    }
   ],
   "source": [
    "movies['adult'].value_counts()"
   ]
  },
  {
   "cell_type": "markdown",
   "id": "49ee1619",
   "metadata": {
    "papermill": {
     "duration": 0.051676,
     "end_time": "2021-09-19T14:18:45.605315",
     "exception": false,
     "start_time": "2021-09-19T14:18:45.553639",
     "status": "completed"
    },
    "tags": []
   },
   "source": [
    "Most of the movies are not adult movies. We will not take this columns into consideration because we could consider those adult cases are outliers."
   ]
  },
  {
   "cell_type": "markdown",
   "id": "5aeedb37",
   "metadata": {
    "papermill": {
     "duration": 0.051335,
     "end_time": "2021-09-19T14:18:45.709406",
     "exception": false,
     "start_time": "2021-09-19T14:18:45.658071",
     "status": "completed"
    },
    "tags": []
   },
   "source": [
    "From the first glence we can see that genres is a list containing a dictionary, so I would use literal_eval of ast to pre process this column."
   ]
  },
  {
   "cell_type": "code",
   "execution_count": 8,
   "id": "54794d8a",
   "metadata": {
    "execution": {
     "iopub.execute_input": "2021-09-19T14:18:45.821260Z",
     "iopub.status.busy": "2021-09-19T14:18:45.818480Z",
     "iopub.status.idle": "2021-09-19T14:18:45.939453Z",
     "shell.execute_reply": "2021-09-19T14:18:45.938886Z",
     "shell.execute_reply.started": "2021-09-19T13:40:29.111972Z"
    },
    "papermill": {
     "duration": 0.178011,
     "end_time": "2021-09-19T14:18:45.939612",
     "exception": false,
     "start_time": "2021-09-19T14:18:45.761601",
     "status": "completed"
    },
    "tags": []
   },
   "outputs": [
    {
     "name": "stdout",
     "output_type": "stream",
     "text": [
      "<class 'pandas.core.frame.DataFrame'>\n",
      "RangeIndex: 45466 entries, 0 to 45465\n",
      "Data columns (total 24 columns):\n",
      " #   Column                 Non-Null Count  Dtype  \n",
      "---  ------                 --------------  -----  \n",
      " 0   adult                  45466 non-null  object \n",
      " 1   belongs_to_collection  4494 non-null   object \n",
      " 2   budget                 45466 non-null  object \n",
      " 3   genres                 45466 non-null  object \n",
      " 4   homepage               7782 non-null   object \n",
      " 5   id                     45466 non-null  object \n",
      " 6   imdb_id                45449 non-null  object \n",
      " 7   original_language      45455 non-null  object \n",
      " 8   original_title         45466 non-null  object \n",
      " 9   overview               44512 non-null  object \n",
      " 10  popularity             45461 non-null  object \n",
      " 11  poster_path            45080 non-null  object \n",
      " 12  production_companies   45463 non-null  object \n",
      " 13  production_countries   45463 non-null  object \n",
      " 14  release_date           45379 non-null  object \n",
      " 15  revenue                45460 non-null  float64\n",
      " 16  runtime                45203 non-null  float64\n",
      " 17  spoken_languages       45460 non-null  object \n",
      " 18  status                 45379 non-null  object \n",
      " 19  tagline                20412 non-null  object \n",
      " 20  title                  45460 non-null  object \n",
      " 21  video                  45460 non-null  object \n",
      " 22  vote_average           45460 non-null  float64\n",
      " 23  vote_count             45460 non-null  float64\n",
      "dtypes: float64(4), object(20)\n",
      "memory usage: 8.3+ MB\n"
     ]
    }
   ],
   "source": [
    "movies.info()"
   ]
  },
  {
   "cell_type": "markdown",
   "id": "daca8071",
   "metadata": {
    "papermill": {
     "duration": 0.05186,
     "end_time": "2021-09-19T14:18:46.043186",
     "exception": false,
     "start_time": "2021-09-19T14:18:45.991326",
     "status": "completed"
    },
    "tags": []
   },
   "source": [
    "The id of a genre won't matter, so we will transform this column to contain only one list with the genres instead of a list of a dictionary."
   ]
  },
  {
   "cell_type": "code",
   "execution_count": 9,
   "id": "9b614cec",
   "metadata": {
    "execution": {
     "iopub.execute_input": "2021-09-19T14:18:46.160861Z",
     "iopub.status.busy": "2021-09-19T14:18:46.160095Z",
     "iopub.status.idle": "2021-09-19T14:18:47.719195Z",
     "shell.execute_reply": "2021-09-19T14:18:47.719749Z",
     "shell.execute_reply.started": "2021-09-19T13:40:29.184165Z"
    },
    "papermill": {
     "duration": 1.625102,
     "end_time": "2021-09-19T14:18:47.719966",
     "exception": false,
     "start_time": "2021-09-19T14:18:46.094864",
     "status": "completed"
    },
    "tags": []
   },
   "outputs": [],
   "source": [
    "def fix_genres(x):\n",
    "    genres = []\n",
    "    for i in x:\n",
    "        genres.append(list(i.values())[1])\n",
    "\n",
    "    return genres\n",
    "\n",
    "movies['genresx'] = movies['genres'].fillna('[]').apply(literal_eval).apply(lambda x: fix_genres(x))"
   ]
  },
  {
   "cell_type": "code",
   "execution_count": 10,
   "id": "e32e6d9a",
   "metadata": {
    "_kg_hide-input": true,
    "execution": {
     "iopub.execute_input": "2021-09-19T14:18:47.827782Z",
     "iopub.status.busy": "2021-09-19T14:18:47.827176Z",
     "iopub.status.idle": "2021-09-19T14:18:47.887447Z",
     "shell.execute_reply": "2021-09-19T14:18:47.887995Z",
     "shell.execute_reply.started": "2021-09-19T13:40:30.639472Z"
    },
    "papermill": {
     "duration": 0.116864,
     "end_time": "2021-09-19T14:18:47.888172",
     "exception": false,
     "start_time": "2021-09-19T14:18:47.771308",
     "status": "completed"
    },
    "tags": []
   },
   "outputs": [],
   "source": [
    "movies = movies.drop([19730, 29503, 35587])"
   ]
  },
  {
   "cell_type": "markdown",
   "id": "b4b37aaf",
   "metadata": {
    "papermill": {
     "duration": 0.05194,
     "end_time": "2021-09-19T14:18:47.991420",
     "exception": false,
     "start_time": "2021-09-19T14:18:47.939480",
     "status": "completed"
    },
    "tags": []
   },
   "source": [
    "We would do the same thing with spoken languages column:"
   ]
  },
  {
   "cell_type": "code",
   "execution_count": 11,
   "id": "079b90c6",
   "metadata": {
    "execution": {
     "iopub.execute_input": "2021-09-19T14:18:48.098306Z",
     "iopub.status.busy": "2021-09-19T14:18:48.097649Z",
     "iopub.status.idle": "2021-09-19T14:18:49.264051Z",
     "shell.execute_reply": "2021-09-19T14:18:49.263492Z",
     "shell.execute_reply.started": "2021-09-19T13:40:39.703128Z"
    },
    "papermill": {
     "duration": 1.220847,
     "end_time": "2021-09-19T14:18:49.264207",
     "exception": false,
     "start_time": "2021-09-19T14:18:48.043360",
     "status": "completed"
    },
    "tags": []
   },
   "outputs": [
    {
     "data": {
      "text/html": [
       "<div>\n",
       "<style scoped>\n",
       "    .dataframe tbody tr th:only-of-type {\n",
       "        vertical-align: middle;\n",
       "    }\n",
       "\n",
       "    .dataframe tbody tr th {\n",
       "        vertical-align: top;\n",
       "    }\n",
       "\n",
       "    .dataframe thead th {\n",
       "        text-align: right;\n",
       "    }\n",
       "</style>\n",
       "<table border=\"1\" class=\"dataframe\">\n",
       "  <thead>\n",
       "    <tr style=\"text-align: right;\">\n",
       "      <th></th>\n",
       "      <th>adult</th>\n",
       "      <th>belongs_to_collection</th>\n",
       "      <th>budget</th>\n",
       "      <th>genres</th>\n",
       "      <th>homepage</th>\n",
       "      <th>id</th>\n",
       "      <th>imdb_id</th>\n",
       "      <th>original_language</th>\n",
       "      <th>original_title</th>\n",
       "      <th>overview</th>\n",
       "      <th>popularity</th>\n",
       "      <th>poster_path</th>\n",
       "      <th>production_companies</th>\n",
       "      <th>production_countries</th>\n",
       "      <th>release_date</th>\n",
       "      <th>revenue</th>\n",
       "      <th>runtime</th>\n",
       "      <th>spoken_languages</th>\n",
       "      <th>status</th>\n",
       "      <th>tagline</th>\n",
       "      <th>title</th>\n",
       "      <th>video</th>\n",
       "      <th>vote_average</th>\n",
       "      <th>vote_count</th>\n",
       "      <th>genresx</th>\n",
       "    </tr>\n",
       "  </thead>\n",
       "  <tbody>\n",
       "    <tr>\n",
       "      <th>0</th>\n",
       "      <td>False</td>\n",
       "      <td>{'id': 10194, 'name': 'Toy Story Collection', ...</td>\n",
       "      <td>30000000</td>\n",
       "      <td>[{'id': 16, 'name': 'Animation'}, {'id': 35, '...</td>\n",
       "      <td>http://toystory.disney.com/toy-story</td>\n",
       "      <td>862</td>\n",
       "      <td>tt0114709</td>\n",
       "      <td>en</td>\n",
       "      <td>Toy Story</td>\n",
       "      <td>Led by Woody, Andy's toys live happily in his ...</td>\n",
       "      <td>21.946943</td>\n",
       "      <td>/rhIRbceoE9lR4veEXuwCC2wARtG.jpg</td>\n",
       "      <td>[{'name': 'Pixar Animation Studios', 'id': 3}]</td>\n",
       "      <td>[{'iso_3166_1': 'US', 'name': 'United States o...</td>\n",
       "      <td>1995-10-30</td>\n",
       "      <td>373554033.0</td>\n",
       "      <td>81.0</td>\n",
       "      <td>[English]</td>\n",
       "      <td>Released</td>\n",
       "      <td>NaN</td>\n",
       "      <td>Toy Story</td>\n",
       "      <td>False</td>\n",
       "      <td>7.7</td>\n",
       "      <td>5415.0</td>\n",
       "      <td>[Animation, Comedy, Family]</td>\n",
       "    </tr>\n",
       "    <tr>\n",
       "      <th>1</th>\n",
       "      <td>False</td>\n",
       "      <td>NaN</td>\n",
       "      <td>65000000</td>\n",
       "      <td>[{'id': 12, 'name': 'Adventure'}, {'id': 14, '...</td>\n",
       "      <td>NaN</td>\n",
       "      <td>8844</td>\n",
       "      <td>tt0113497</td>\n",
       "      <td>en</td>\n",
       "      <td>Jumanji</td>\n",
       "      <td>When siblings Judy and Peter discover an encha...</td>\n",
       "      <td>17.015539</td>\n",
       "      <td>/vzmL6fP7aPKNKPRTFnZmiUfciyV.jpg</td>\n",
       "      <td>[{'name': 'TriStar Pictures', 'id': 559}, {'na...</td>\n",
       "      <td>[{'iso_3166_1': 'US', 'name': 'United States o...</td>\n",
       "      <td>1995-12-15</td>\n",
       "      <td>262797249.0</td>\n",
       "      <td>104.0</td>\n",
       "      <td>[English, Français]</td>\n",
       "      <td>Released</td>\n",
       "      <td>Roll the dice and unleash the excitement!</td>\n",
       "      <td>Jumanji</td>\n",
       "      <td>False</td>\n",
       "      <td>6.9</td>\n",
       "      <td>2413.0</td>\n",
       "      <td>[Adventure, Fantasy, Family]</td>\n",
       "    </tr>\n",
       "    <tr>\n",
       "      <th>2</th>\n",
       "      <td>False</td>\n",
       "      <td>{'id': 119050, 'name': 'Grumpy Old Men Collect...</td>\n",
       "      <td>0</td>\n",
       "      <td>[{'id': 10749, 'name': 'Romance'}, {'id': 35, ...</td>\n",
       "      <td>NaN</td>\n",
       "      <td>15602</td>\n",
       "      <td>tt0113228</td>\n",
       "      <td>en</td>\n",
       "      <td>Grumpier Old Men</td>\n",
       "      <td>A family wedding reignites the ancient feud be...</td>\n",
       "      <td>11.7129</td>\n",
       "      <td>/6ksm1sjKMFLbO7UY2i6G1ju9SML.jpg</td>\n",
       "      <td>[{'name': 'Warner Bros.', 'id': 6194}, {'name'...</td>\n",
       "      <td>[{'iso_3166_1': 'US', 'name': 'United States o...</td>\n",
       "      <td>1995-12-22</td>\n",
       "      <td>0.0</td>\n",
       "      <td>101.0</td>\n",
       "      <td>[English]</td>\n",
       "      <td>Released</td>\n",
       "      <td>Still Yelling. Still Fighting. Still Ready for...</td>\n",
       "      <td>Grumpier Old Men</td>\n",
       "      <td>False</td>\n",
       "      <td>6.5</td>\n",
       "      <td>92.0</td>\n",
       "      <td>[Romance, Comedy]</td>\n",
       "    </tr>\n",
       "    <tr>\n",
       "      <th>3</th>\n",
       "      <td>False</td>\n",
       "      <td>NaN</td>\n",
       "      <td>16000000</td>\n",
       "      <td>[{'id': 35, 'name': 'Comedy'}, {'id': 18, 'nam...</td>\n",
       "      <td>NaN</td>\n",
       "      <td>31357</td>\n",
       "      <td>tt0114885</td>\n",
       "      <td>en</td>\n",
       "      <td>Waiting to Exhale</td>\n",
       "      <td>Cheated on, mistreated and stepped on, the wom...</td>\n",
       "      <td>3.859495</td>\n",
       "      <td>/16XOMpEaLWkrcPqSQqhTmeJuqQl.jpg</td>\n",
       "      <td>[{'name': 'Twentieth Century Fox Film Corporat...</td>\n",
       "      <td>[{'iso_3166_1': 'US', 'name': 'United States o...</td>\n",
       "      <td>1995-12-22</td>\n",
       "      <td>81452156.0</td>\n",
       "      <td>127.0</td>\n",
       "      <td>[English]</td>\n",
       "      <td>Released</td>\n",
       "      <td>Friends are the people who let you be yourself...</td>\n",
       "      <td>Waiting to Exhale</td>\n",
       "      <td>False</td>\n",
       "      <td>6.1</td>\n",
       "      <td>34.0</td>\n",
       "      <td>[Comedy, Drama, Romance]</td>\n",
       "    </tr>\n",
       "    <tr>\n",
       "      <th>4</th>\n",
       "      <td>False</td>\n",
       "      <td>{'id': 96871, 'name': 'Father of the Bride Col...</td>\n",
       "      <td>0</td>\n",
       "      <td>[{'id': 35, 'name': 'Comedy'}]</td>\n",
       "      <td>NaN</td>\n",
       "      <td>11862</td>\n",
       "      <td>tt0113041</td>\n",
       "      <td>en</td>\n",
       "      <td>Father of the Bride Part II</td>\n",
       "      <td>Just when George Banks has recovered from his ...</td>\n",
       "      <td>8.387519</td>\n",
       "      <td>/e64sOI48hQXyru7naBFyssKFxVd.jpg</td>\n",
       "      <td>[{'name': 'Sandollar Productions', 'id': 5842}...</td>\n",
       "      <td>[{'iso_3166_1': 'US', 'name': 'United States o...</td>\n",
       "      <td>1995-02-10</td>\n",
       "      <td>76578911.0</td>\n",
       "      <td>106.0</td>\n",
       "      <td>[English]</td>\n",
       "      <td>Released</td>\n",
       "      <td>Just When His World Is Back To Normal... He's ...</td>\n",
       "      <td>Father of the Bride Part II</td>\n",
       "      <td>False</td>\n",
       "      <td>5.7</td>\n",
       "      <td>173.0</td>\n",
       "      <td>[Comedy]</td>\n",
       "    </tr>\n",
       "  </tbody>\n",
       "</table>\n",
       "</div>"
      ],
      "text/plain": [
       "   adult                              belongs_to_collection    budget  \\\n",
       "0  False  {'id': 10194, 'name': 'Toy Story Collection', ...  30000000   \n",
       "1  False                                                NaN  65000000   \n",
       "2  False  {'id': 119050, 'name': 'Grumpy Old Men Collect...         0   \n",
       "3  False                                                NaN  16000000   \n",
       "4  False  {'id': 96871, 'name': 'Father of the Bride Col...         0   \n",
       "\n",
       "                                              genres  \\\n",
       "0  [{'id': 16, 'name': 'Animation'}, {'id': 35, '...   \n",
       "1  [{'id': 12, 'name': 'Adventure'}, {'id': 14, '...   \n",
       "2  [{'id': 10749, 'name': 'Romance'}, {'id': 35, ...   \n",
       "3  [{'id': 35, 'name': 'Comedy'}, {'id': 18, 'nam...   \n",
       "4                     [{'id': 35, 'name': 'Comedy'}]   \n",
       "\n",
       "                               homepage     id    imdb_id original_language  \\\n",
       "0  http://toystory.disney.com/toy-story    862  tt0114709                en   \n",
       "1                                   NaN   8844  tt0113497                en   \n",
       "2                                   NaN  15602  tt0113228                en   \n",
       "3                                   NaN  31357  tt0114885                en   \n",
       "4                                   NaN  11862  tt0113041                en   \n",
       "\n",
       "                original_title  \\\n",
       "0                    Toy Story   \n",
       "1                      Jumanji   \n",
       "2             Grumpier Old Men   \n",
       "3            Waiting to Exhale   \n",
       "4  Father of the Bride Part II   \n",
       "\n",
       "                                            overview popularity  \\\n",
       "0  Led by Woody, Andy's toys live happily in his ...  21.946943   \n",
       "1  When siblings Judy and Peter discover an encha...  17.015539   \n",
       "2  A family wedding reignites the ancient feud be...    11.7129   \n",
       "3  Cheated on, mistreated and stepped on, the wom...   3.859495   \n",
       "4  Just when George Banks has recovered from his ...   8.387519   \n",
       "\n",
       "                        poster_path  \\\n",
       "0  /rhIRbceoE9lR4veEXuwCC2wARtG.jpg   \n",
       "1  /vzmL6fP7aPKNKPRTFnZmiUfciyV.jpg   \n",
       "2  /6ksm1sjKMFLbO7UY2i6G1ju9SML.jpg   \n",
       "3  /16XOMpEaLWkrcPqSQqhTmeJuqQl.jpg   \n",
       "4  /e64sOI48hQXyru7naBFyssKFxVd.jpg   \n",
       "\n",
       "                                production_companies  \\\n",
       "0     [{'name': 'Pixar Animation Studios', 'id': 3}]   \n",
       "1  [{'name': 'TriStar Pictures', 'id': 559}, {'na...   \n",
       "2  [{'name': 'Warner Bros.', 'id': 6194}, {'name'...   \n",
       "3  [{'name': 'Twentieth Century Fox Film Corporat...   \n",
       "4  [{'name': 'Sandollar Productions', 'id': 5842}...   \n",
       "\n",
       "                                production_countries release_date  \\\n",
       "0  [{'iso_3166_1': 'US', 'name': 'United States o...   1995-10-30   \n",
       "1  [{'iso_3166_1': 'US', 'name': 'United States o...   1995-12-15   \n",
       "2  [{'iso_3166_1': 'US', 'name': 'United States o...   1995-12-22   \n",
       "3  [{'iso_3166_1': 'US', 'name': 'United States o...   1995-12-22   \n",
       "4  [{'iso_3166_1': 'US', 'name': 'United States o...   1995-02-10   \n",
       "\n",
       "       revenue  runtime     spoken_languages    status  \\\n",
       "0  373554033.0     81.0            [English]  Released   \n",
       "1  262797249.0    104.0  [English, Français]  Released   \n",
       "2          0.0    101.0            [English]  Released   \n",
       "3   81452156.0    127.0            [English]  Released   \n",
       "4   76578911.0    106.0            [English]  Released   \n",
       "\n",
       "                                             tagline  \\\n",
       "0                                                NaN   \n",
       "1          Roll the dice and unleash the excitement!   \n",
       "2  Still Yelling. Still Fighting. Still Ready for...   \n",
       "3  Friends are the people who let you be yourself...   \n",
       "4  Just When His World Is Back To Normal... He's ...   \n",
       "\n",
       "                         title  video  vote_average  vote_count  \\\n",
       "0                    Toy Story  False           7.7      5415.0   \n",
       "1                      Jumanji  False           6.9      2413.0   \n",
       "2             Grumpier Old Men  False           6.5        92.0   \n",
       "3            Waiting to Exhale  False           6.1        34.0   \n",
       "4  Father of the Bride Part II  False           5.7       173.0   \n",
       "\n",
       "                        genresx  \n",
       "0   [Animation, Comedy, Family]  \n",
       "1  [Adventure, Fantasy, Family]  \n",
       "2             [Romance, Comedy]  \n",
       "3      [Comedy, Drama, Romance]  \n",
       "4                      [Comedy]  "
      ]
     },
     "execution_count": 11,
     "metadata": {},
     "output_type": "execute_result"
    }
   ],
   "source": [
    "def fix_language(x):\n",
    "    lang = []\n",
    "    for i in x:\n",
    "        lang.append(list(i.values())[1])\n",
    "    return lang\n",
    "\n",
    "movies['spoken_languages'] = movies['spoken_languages'].fillna('[]').apply(literal_eval).apply(fix_language)\n",
    "movies.head()"
   ]
  },
  {
   "cell_type": "code",
   "execution_count": 12,
   "id": "5cbbc429",
   "metadata": {
    "execution": {
     "iopub.execute_input": "2021-09-19T14:18:49.375460Z",
     "iopub.status.busy": "2021-09-19T14:18:49.374824Z",
     "iopub.status.idle": "2021-09-19T14:18:49.395594Z",
     "shell.execute_reply": "2021-09-19T14:18:49.395058Z",
     "shell.execute_reply.started": "2021-09-19T13:48:22.977012Z"
    },
    "papermill": {
     "duration": 0.078704,
     "end_time": "2021-09-19T14:18:49.395749",
     "exception": false,
     "start_time": "2021-09-19T14:18:49.317045",
     "status": "completed"
    },
    "tags": []
   },
   "outputs": [
    {
     "data": {
      "text/plain": [
       "0      862\n",
       "1     8844\n",
       "2    15602\n",
       "3    31357\n",
       "4    11862\n",
       "Name: tmdbId, dtype: int64"
      ]
     },
     "execution_count": 12,
     "metadata": {},
     "output_type": "execute_result"
    }
   ],
   "source": [
    "links = pd.read_csv('/kaggle/input/the-movies-dataset/links_small.csv')\n",
    "links = links[links['tmdbId'].notnull()]['tmdbId'].astype('int')\n",
    "links.head()"
   ]
  },
  {
   "cell_type": "markdown",
   "id": "149d48ef",
   "metadata": {
    "papermill": {
     "duration": 0.052467,
     "end_time": "2021-09-19T14:18:49.501228",
     "exception": false,
     "start_time": "2021-09-19T14:18:49.448761",
     "status": "completed"
    },
    "tags": []
   },
   "source": [
    "Movie taglines are slogans or catchphrases for films. They can include a clever pun, a short phrase, or a sentence or two. Taglines can refer to the plot of the film or suggest the experience you'll have as a viewer. So we will concatenate this column with the overview column to get an overall description column."
   ]
  },
  {
   "cell_type": "code",
   "execution_count": 13,
   "id": "7fb21381",
   "metadata": {
    "execution": {
     "iopub.execute_input": "2021-09-19T14:18:49.620842Z",
     "iopub.status.busy": "2021-09-19T14:18:49.620142Z",
     "iopub.status.idle": "2021-09-19T14:18:49.622703Z",
     "shell.execute_reply": "2021-09-19T14:18:49.623230Z",
     "shell.execute_reply.started": "2021-09-19T13:49:39.288487Z"
    },
    "papermill": {
     "duration": 0.069503,
     "end_time": "2021-09-19T14:18:49.623401",
     "exception": false,
     "start_time": "2021-09-19T14:18:49.553898",
     "status": "completed"
    },
    "tags": []
   },
   "outputs": [
    {
     "data": {
      "text/plain": [
       "array([nan, 'Roll the dice and unleash the excitement!',\n",
       "       'Still Yelling. Still Fighting. Still Ready for Love.', ...,\n",
       "       'Do you know what happened 50 years before \"The Blair Witch Project\"?',\n",
       "       'Rising and falling between a man and woman',\n",
       "       'A deadly game of wits.'], dtype=object)"
      ]
     },
     "execution_count": 13,
     "metadata": {},
     "output_type": "execute_result"
    }
   ],
   "source": [
    "movies['tagline'].unique()"
   ]
  },
  {
   "cell_type": "code",
   "execution_count": 14,
   "id": "de4dae79",
   "metadata": {
    "execution": {
     "iopub.execute_input": "2021-09-19T14:18:49.734359Z",
     "iopub.status.busy": "2021-09-19T14:18:49.733660Z",
     "iopub.status.idle": "2021-09-19T14:18:49.754765Z",
     "shell.execute_reply": "2021-09-19T14:18:49.754202Z",
     "shell.execute_reply.started": "2021-09-19T13:49:41.575326Z"
    },
    "papermill": {
     "duration": 0.077019,
     "end_time": "2021-09-19T14:18:49.754914",
     "exception": false,
     "start_time": "2021-09-19T14:18:49.677895",
     "status": "completed"
    },
    "tags": []
   },
   "outputs": [],
   "source": [
    "movies['tagline'] = movies['tagline'].fillna('')\n",
    "movies['overview'] = movies['overview'].fillna('')"
   ]
  },
  {
   "cell_type": "code",
   "execution_count": 15,
   "id": "d41d17e9",
   "metadata": {
    "execution": {
     "iopub.execute_input": "2021-09-19T14:18:49.882843Z",
     "iopub.status.busy": "2021-09-19T14:18:49.882110Z",
     "iopub.status.idle": "2021-09-19T14:18:49.888392Z",
     "shell.execute_reply": "2021-09-19T14:18:49.887875Z",
     "shell.execute_reply.started": "2021-09-19T13:49:45.459031Z"
    },
    "papermill": {
     "duration": 0.080033,
     "end_time": "2021-09-19T14:18:49.888566",
     "exception": false,
     "start_time": "2021-09-19T14:18:49.808533",
     "status": "completed"
    },
    "tags": []
   },
   "outputs": [],
   "source": [
    "movies['description'] = movies['overview'] + movies['tagline']\n",
    "movies['description'] = movies['description'].fillna('')"
   ]
  },
  {
   "cell_type": "markdown",
   "id": "0d41a410",
   "metadata": {
    "papermill": {
     "duration": 0.052259,
     "end_time": "2021-09-19T14:18:49.993957",
     "exception": false,
     "start_time": "2021-09-19T14:18:49.941698",
     "status": "completed"
    },
    "tags": []
   },
   "source": [
    "Moving on, we will import credits and keywords dataset."
   ]
  },
  {
   "cell_type": "code",
   "execution_count": 16,
   "id": "7d676319",
   "metadata": {
    "execution": {
     "iopub.execute_input": "2021-09-19T14:18:50.105494Z",
     "iopub.status.busy": "2021-09-19T14:18:50.104815Z",
     "iopub.status.idle": "2021-09-19T14:18:54.343696Z",
     "shell.execute_reply": "2021-09-19T14:18:54.343120Z",
     "shell.execute_reply.started": "2021-09-19T13:50:06.013410Z"
    },
    "papermill": {
     "duration": 4.297424,
     "end_time": "2021-09-19T14:18:54.343985",
     "exception": false,
     "start_time": "2021-09-19T14:18:50.046561",
     "status": "completed"
    },
    "tags": []
   },
   "outputs": [],
   "source": [
    "credits = pd.read_csv('/kaggle/input/the-movies-dataset/credits.csv')\n",
    "keywords = pd.read_csv('/kaggle/input/the-movies-dataset/keywords.csv')"
   ]
  },
  {
   "cell_type": "code",
   "execution_count": 17,
   "id": "ae5d9e3b",
   "metadata": {
    "execution": {
     "iopub.execute_input": "2021-09-19T14:18:54.453449Z",
     "iopub.status.busy": "2021-09-19T14:18:54.452658Z",
     "iopub.status.idle": "2021-09-19T14:18:54.462138Z",
     "shell.execute_reply": "2021-09-19T14:18:54.462583Z",
     "shell.execute_reply.started": "2021-09-19T13:50:10.355211Z"
    },
    "papermill": {
     "duration": 0.065719,
     "end_time": "2021-09-19T14:18:54.462763",
     "exception": false,
     "start_time": "2021-09-19T14:18:54.397044",
     "status": "completed"
    },
    "tags": []
   },
   "outputs": [
    {
     "data": {
      "text/html": [
       "<div>\n",
       "<style scoped>\n",
       "    .dataframe tbody tr th:only-of-type {\n",
       "        vertical-align: middle;\n",
       "    }\n",
       "\n",
       "    .dataframe tbody tr th {\n",
       "        vertical-align: top;\n",
       "    }\n",
       "\n",
       "    .dataframe thead th {\n",
       "        text-align: right;\n",
       "    }\n",
       "</style>\n",
       "<table border=\"1\" class=\"dataframe\">\n",
       "  <thead>\n",
       "    <tr style=\"text-align: right;\">\n",
       "      <th></th>\n",
       "      <th>cast</th>\n",
       "      <th>crew</th>\n",
       "      <th>id</th>\n",
       "    </tr>\n",
       "  </thead>\n",
       "  <tbody>\n",
       "    <tr>\n",
       "      <th>0</th>\n",
       "      <td>[{'cast_id': 14, 'character': 'Woody (voice)',...</td>\n",
       "      <td>[{'credit_id': '52fe4284c3a36847f8024f49', 'de...</td>\n",
       "      <td>862</td>\n",
       "    </tr>\n",
       "    <tr>\n",
       "      <th>1</th>\n",
       "      <td>[{'cast_id': 1, 'character': 'Alan Parrish', '...</td>\n",
       "      <td>[{'credit_id': '52fe44bfc3a36847f80a7cd1', 'de...</td>\n",
       "      <td>8844</td>\n",
       "    </tr>\n",
       "    <tr>\n",
       "      <th>2</th>\n",
       "      <td>[{'cast_id': 2, 'character': 'Max Goldman', 'c...</td>\n",
       "      <td>[{'credit_id': '52fe466a9251416c75077a89', 'de...</td>\n",
       "      <td>15602</td>\n",
       "    </tr>\n",
       "    <tr>\n",
       "      <th>3</th>\n",
       "      <td>[{'cast_id': 1, 'character': \"Savannah 'Vannah...</td>\n",
       "      <td>[{'credit_id': '52fe44779251416c91011acb', 'de...</td>\n",
       "      <td>31357</td>\n",
       "    </tr>\n",
       "    <tr>\n",
       "      <th>4</th>\n",
       "      <td>[{'cast_id': 1, 'character': 'George Banks', '...</td>\n",
       "      <td>[{'credit_id': '52fe44959251416c75039ed7', 'de...</td>\n",
       "      <td>11862</td>\n",
       "    </tr>\n",
       "  </tbody>\n",
       "</table>\n",
       "</div>"
      ],
      "text/plain": [
       "                                                cast  \\\n",
       "0  [{'cast_id': 14, 'character': 'Woody (voice)',...   \n",
       "1  [{'cast_id': 1, 'character': 'Alan Parrish', '...   \n",
       "2  [{'cast_id': 2, 'character': 'Max Goldman', 'c...   \n",
       "3  [{'cast_id': 1, 'character': \"Savannah 'Vannah...   \n",
       "4  [{'cast_id': 1, 'character': 'George Banks', '...   \n",
       "\n",
       "                                                crew     id  \n",
       "0  [{'credit_id': '52fe4284c3a36847f8024f49', 'de...    862  \n",
       "1  [{'credit_id': '52fe44bfc3a36847f80a7cd1', 'de...   8844  \n",
       "2  [{'credit_id': '52fe466a9251416c75077a89', 'de...  15602  \n",
       "3  [{'credit_id': '52fe44779251416c91011acb', 'de...  31357  \n",
       "4  [{'credit_id': '52fe44959251416c75039ed7', 'de...  11862  "
      ]
     },
     "execution_count": 17,
     "metadata": {},
     "output_type": "execute_result"
    }
   ],
   "source": [
    "credits.head()"
   ]
  },
  {
   "cell_type": "code",
   "execution_count": 18,
   "id": "42940ae0",
   "metadata": {
    "execution": {
     "iopub.execute_input": "2021-09-19T14:18:54.589564Z",
     "iopub.status.busy": "2021-09-19T14:18:54.588861Z",
     "iopub.status.idle": "2021-09-19T14:18:54.598910Z",
     "shell.execute_reply": "2021-09-19T14:18:54.599349Z",
     "shell.execute_reply.started": "2021-09-19T13:50:18.187861Z"
    },
    "papermill": {
     "duration": 0.083298,
     "end_time": "2021-09-19T14:18:54.599517",
     "exception": false,
     "start_time": "2021-09-19T14:18:54.516219",
     "status": "completed"
    },
    "tags": []
   },
   "outputs": [
    {
     "name": "stdout",
     "output_type": "stream",
     "text": [
      "<class 'pandas.core.frame.DataFrame'>\n",
      "RangeIndex: 45476 entries, 0 to 45475\n",
      "Data columns (total 3 columns):\n",
      " #   Column  Non-Null Count  Dtype \n",
      "---  ------  --------------  ----- \n",
      " 0   cast    45476 non-null  object\n",
      " 1   crew    45476 non-null  object\n",
      " 2   id      45476 non-null  int64 \n",
      "dtypes: int64(1), object(2)\n",
      "memory usage: 1.0+ MB\n"
     ]
    }
   ],
   "source": [
    "credits.info()"
   ]
  },
  {
   "cell_type": "code",
   "execution_count": 19,
   "id": "bd19ea5f",
   "metadata": {
    "execution": {
     "iopub.execute_input": "2021-09-19T14:18:54.716948Z",
     "iopub.status.busy": "2021-09-19T14:18:54.716072Z",
     "iopub.status.idle": "2021-09-19T14:18:54.719798Z",
     "shell.execute_reply": "2021-09-19T14:18:54.719177Z",
     "shell.execute_reply.started": "2021-09-19T13:50:26.224054Z"
    },
    "papermill": {
     "duration": 0.065893,
     "end_time": "2021-09-19T14:18:54.719949",
     "exception": false,
     "start_time": "2021-09-19T14:18:54.654056",
     "status": "completed"
    },
    "tags": []
   },
   "outputs": [
    {
     "data": {
      "text/html": [
       "<div>\n",
       "<style scoped>\n",
       "    .dataframe tbody tr th:only-of-type {\n",
       "        vertical-align: middle;\n",
       "    }\n",
       "\n",
       "    .dataframe tbody tr th {\n",
       "        vertical-align: top;\n",
       "    }\n",
       "\n",
       "    .dataframe thead th {\n",
       "        text-align: right;\n",
       "    }\n",
       "</style>\n",
       "<table border=\"1\" class=\"dataframe\">\n",
       "  <thead>\n",
       "    <tr style=\"text-align: right;\">\n",
       "      <th></th>\n",
       "      <th>id</th>\n",
       "      <th>keywords</th>\n",
       "    </tr>\n",
       "  </thead>\n",
       "  <tbody>\n",
       "    <tr>\n",
       "      <th>0</th>\n",
       "      <td>862</td>\n",
       "      <td>[{'id': 931, 'name': 'jealousy'}, {'id': 4290,...</td>\n",
       "    </tr>\n",
       "    <tr>\n",
       "      <th>1</th>\n",
       "      <td>8844</td>\n",
       "      <td>[{'id': 10090, 'name': 'board game'}, {'id': 1...</td>\n",
       "    </tr>\n",
       "    <tr>\n",
       "      <th>2</th>\n",
       "      <td>15602</td>\n",
       "      <td>[{'id': 1495, 'name': 'fishing'}, {'id': 12392...</td>\n",
       "    </tr>\n",
       "    <tr>\n",
       "      <th>3</th>\n",
       "      <td>31357</td>\n",
       "      <td>[{'id': 818, 'name': 'based on novel'}, {'id':...</td>\n",
       "    </tr>\n",
       "    <tr>\n",
       "      <th>4</th>\n",
       "      <td>11862</td>\n",
       "      <td>[{'id': 1009, 'name': 'baby'}, {'id': 1599, 'n...</td>\n",
       "    </tr>\n",
       "  </tbody>\n",
       "</table>\n",
       "</div>"
      ],
      "text/plain": [
       "      id                                           keywords\n",
       "0    862  [{'id': 931, 'name': 'jealousy'}, {'id': 4290,...\n",
       "1   8844  [{'id': 10090, 'name': 'board game'}, {'id': 1...\n",
       "2  15602  [{'id': 1495, 'name': 'fishing'}, {'id': 12392...\n",
       "3  31357  [{'id': 818, 'name': 'based on novel'}, {'id':...\n",
       "4  11862  [{'id': 1009, 'name': 'baby'}, {'id': 1599, 'n..."
      ]
     },
     "execution_count": 19,
     "metadata": {},
     "output_type": "execute_result"
    }
   ],
   "source": [
    "keywords.head()"
   ]
  },
  {
   "cell_type": "code",
   "execution_count": 20,
   "id": "135def9b",
   "metadata": {
    "execution": {
     "iopub.execute_input": "2021-09-19T14:18:54.831765Z",
     "iopub.status.busy": "2021-09-19T14:18:54.831101Z",
     "iopub.status.idle": "2021-09-19T14:18:54.847795Z",
     "shell.execute_reply": "2021-09-19T14:18:54.847210Z",
     "shell.execute_reply.started": "2021-09-19T13:50:34.687563Z"
    },
    "papermill": {
     "duration": 0.073703,
     "end_time": "2021-09-19T14:18:54.847932",
     "exception": false,
     "start_time": "2021-09-19T14:18:54.774229",
     "status": "completed"
    },
    "tags": []
   },
   "outputs": [
    {
     "name": "stdout",
     "output_type": "stream",
     "text": [
      "<class 'pandas.core.frame.DataFrame'>\n",
      "RangeIndex: 46419 entries, 0 to 46418\n",
      "Data columns (total 2 columns):\n",
      " #   Column    Non-Null Count  Dtype \n",
      "---  ------    --------------  ----- \n",
      " 0   id        46419 non-null  int64 \n",
      " 1   keywords  46419 non-null  object\n",
      "dtypes: int64(1), object(1)\n",
      "memory usage: 725.4+ KB\n"
     ]
    }
   ],
   "source": [
    "keywords.info()"
   ]
  },
  {
   "cell_type": "code",
   "execution_count": 21,
   "id": "f29f0866",
   "metadata": {
    "execution": {
     "iopub.execute_input": "2021-09-19T14:18:54.970234Z",
     "iopub.status.busy": "2021-09-19T14:18:54.969513Z",
     "iopub.status.idle": "2021-09-19T14:18:54.981130Z",
     "shell.execute_reply": "2021-09-19T14:18:54.981838Z",
     "shell.execute_reply.started": "2021-09-19T13:51:31.121448Z"
    },
    "papermill": {
     "duration": 0.079734,
     "end_time": "2021-09-19T14:18:54.982064",
     "exception": false,
     "start_time": "2021-09-19T14:18:54.902330",
     "status": "completed"
    },
    "tags": []
   },
   "outputs": [
    {
     "name": "stdout",
     "output_type": "stream",
     "text": [
      "object\n",
      "int64\n"
     ]
    }
   ],
   "source": [
    "print(movies['id'].dtype)\n",
    "movies['id'] = movies['id'].astype(int)\n",
    "print(movies['id'].dtype)"
   ]
  },
  {
   "cell_type": "markdown",
   "id": "0e0e46f3",
   "metadata": {
    "papermill": {
     "duration": 0.054215,
     "end_time": "2021-09-19T14:18:55.092006",
     "exception": false,
     "start_time": "2021-09-19T14:18:55.037791",
     "status": "completed"
    },
    "tags": []
   },
   "source": [
    "As I mentioned in the introduction, I will be using crew, cast data and keywords, so let us merge these dataframes with the movies dataframe."
   ]
  },
  {
   "cell_type": "code",
   "execution_count": 22,
   "id": "0344454f",
   "metadata": {
    "execution": {
     "iopub.execute_input": "2021-09-19T14:18:55.207004Z",
     "iopub.status.busy": "2021-09-19T14:18:55.206328Z",
     "iopub.status.idle": "2021-09-19T14:18:55.373209Z",
     "shell.execute_reply": "2021-09-19T14:18:55.371995Z",
     "shell.execute_reply.started": "2021-09-19T13:53:10.455304Z"
    },
    "papermill": {
     "duration": 0.226511,
     "end_time": "2021-09-19T14:18:55.373358",
     "exception": false,
     "start_time": "2021-09-19T14:18:55.146847",
     "status": "completed"
    },
    "tags": []
   },
   "outputs": [],
   "source": [
    "movies = movies.merge(credits, on='id')\n",
    "movies = movies.merge(keywords, on='id')"
   ]
  },
  {
   "cell_type": "markdown",
   "id": "b4492455",
   "metadata": {
    "papermill": {
     "duration": 0.054494,
     "end_time": "2021-09-19T14:18:55.483621",
     "exception": false,
     "start_time": "2021-09-19T14:18:55.429127",
     "status": "completed"
    },
    "tags": []
   },
   "source": [
    "We will keep only movies that are in tmbd, and we will create a new dataframe so we would leave the original dataframe movies with no changes."
   ]
  },
  {
   "cell_type": "code",
   "execution_count": 23,
   "id": "c9cdb2b4",
   "metadata": {
    "execution": {
     "iopub.execute_input": "2021-09-19T14:18:55.601157Z",
     "iopub.status.busy": "2021-09-19T14:18:55.599630Z",
     "iopub.status.idle": "2021-09-19T14:18:55.656575Z",
     "shell.execute_reply": "2021-09-19T14:18:55.656054Z",
     "shell.execute_reply.started": "2021-09-19T13:53:12.675737Z"
    },
    "papermill": {
     "duration": 0.118109,
     "end_time": "2021-09-19T14:18:55.656745",
     "exception": false,
     "start_time": "2021-09-19T14:18:55.538636",
     "status": "completed"
    },
    "tags": []
   },
   "outputs": [],
   "source": [
    "recom = movies[movies['id'].isin(links)]"
   ]
  },
  {
   "cell_type": "markdown",
   "id": "93109d48",
   "metadata": {
    "papermill": {
     "duration": 0.054892,
     "end_time": "2021-09-19T14:18:55.766277",
     "exception": false,
     "start_time": "2021-09-19T14:18:55.711385",
     "status": "completed"
    },
    "tags": []
   },
   "source": [
    "As we did with the genre column in movies dataframe, we would apply literal_eval on cast, crew and keywords columns."
   ]
  },
  {
   "cell_type": "code",
   "execution_count": 24,
   "id": "7cb6f0c3",
   "metadata": {
    "execution": {
     "iopub.execute_input": "2021-09-19T14:18:55.888195Z",
     "iopub.status.busy": "2021-09-19T14:18:55.887139Z",
     "iopub.status.idle": "2021-09-19T14:19:09.898790Z",
     "shell.execute_reply": "2021-09-19T14:19:09.898160Z",
     "shell.execute_reply.started": "2021-09-19T13:53:55.285017Z"
    },
    "papermill": {
     "duration": 14.077877,
     "end_time": "2021-09-19T14:19:09.898925",
     "exception": false,
     "start_time": "2021-09-19T14:18:55.821048",
     "status": "completed"
    },
    "tags": []
   },
   "outputs": [
    {
     "name": "stderr",
     "output_type": "stream",
     "text": [
      "/opt/conda/lib/python3.7/site-packages/ipykernel_launcher.py:1: SettingWithCopyWarning: \n",
      "A value is trying to be set on a copy of a slice from a DataFrame.\n",
      "Try using .loc[row_indexer,col_indexer] = value instead\n",
      "\n",
      "See the caveats in the documentation: https://pandas.pydata.org/pandas-docs/stable/user_guide/indexing.html#returning-a-view-versus-a-copy\n",
      "  \"\"\"Entry point for launching an IPython kernel.\n",
      "/opt/conda/lib/python3.7/site-packages/ipykernel_launcher.py:2: SettingWithCopyWarning: \n",
      "A value is trying to be set on a copy of a slice from a DataFrame.\n",
      "Try using .loc[row_indexer,col_indexer] = value instead\n",
      "\n",
      "See the caveats in the documentation: https://pandas.pydata.org/pandas-docs/stable/user_guide/indexing.html#returning-a-view-versus-a-copy\n",
      "  \n",
      "/opt/conda/lib/python3.7/site-packages/ipykernel_launcher.py:3: SettingWithCopyWarning: \n",
      "A value is trying to be set on a copy of a slice from a DataFrame.\n",
      "Try using .loc[row_indexer,col_indexer] = value instead\n",
      "\n",
      "See the caveats in the documentation: https://pandas.pydata.org/pandas-docs/stable/user_guide/indexing.html#returning-a-view-versus-a-copy\n",
      "  This is separate from the ipykernel package so we can avoid doing imports until\n"
     ]
    }
   ],
   "source": [
    "recom['cast'] = recom['cast'].apply(literal_eval)\n",
    "recom['crew'] = recom['crew'].apply(literal_eval)\n",
    "recom['keywords'] = recom['keywords'].apply(literal_eval)"
   ]
  },
  {
   "cell_type": "code",
   "execution_count": 25,
   "id": "152a155b",
   "metadata": {
    "execution": {
     "iopub.execute_input": "2021-09-19T14:19:10.014904Z",
     "iopub.status.busy": "2021-09-19T14:19:10.014253Z",
     "iopub.status.idle": "2021-09-19T14:19:10.017194Z",
     "shell.execute_reply": "2021-09-19T14:19:10.016542Z",
     "shell.execute_reply.started": "2021-09-19T13:56:05.661238Z"
    },
    "papermill": {
     "duration": 0.062226,
     "end_time": "2021-09-19T14:19:10.017329",
     "exception": false,
     "start_time": "2021-09-19T14:19:09.955103",
     "status": "completed"
    },
    "tags": []
   },
   "outputs": [],
   "source": [
    "# Uncomment this to see an example of a crew\n",
    "#recom['crew'][0]"
   ]
  },
  {
   "cell_type": "markdown",
   "id": "96670712",
   "metadata": {
    "papermill": {
     "duration": 0.061787,
     "end_time": "2021-09-19T14:19:10.136316",
     "exception": false,
     "start_time": "2021-09-19T14:19:10.074529",
     "status": "completed"
    },
    "tags": []
   },
   "source": [
    "We can see that a crew of a movie contains dozens of people and roles, starting from simple tasks to the most complicated ones.\n",
    "We will only pick the director since other roles don't contribute that much to the feel of the movie."
   ]
  },
  {
   "cell_type": "code",
   "execution_count": 26,
   "id": "cfb12090",
   "metadata": {
    "execution": {
     "iopub.execute_input": "2021-09-19T14:19:10.254425Z",
     "iopub.status.busy": "2021-09-19T14:19:10.253502Z",
     "iopub.status.idle": "2021-09-19T14:19:10.256328Z",
     "shell.execute_reply": "2021-09-19T14:19:10.255814Z",
     "shell.execute_reply.started": "2021-09-19T13:58:02.685195Z"
    },
    "papermill": {
     "duration": 0.063062,
     "end_time": "2021-09-19T14:19:10.256465",
     "exception": false,
     "start_time": "2021-09-19T14:19:10.193403",
     "status": "completed"
    },
    "tags": []
   },
   "outputs": [],
   "source": [
    "def director(x):\n",
    "    for i in x:\n",
    "        if i['job'] == 'Director':\n",
    "            return i['name']\n",
    "    return np.nan"
   ]
  },
  {
   "cell_type": "code",
   "execution_count": 27,
   "id": "888eb257",
   "metadata": {
    "execution": {
     "iopub.execute_input": "2021-09-19T14:19:10.395996Z",
     "iopub.status.busy": "2021-09-19T14:19:10.395327Z",
     "iopub.status.idle": "2021-09-19T14:19:10.398906Z",
     "shell.execute_reply": "2021-09-19T14:19:10.398182Z",
     "shell.execute_reply.started": "2021-09-19T13:58:03.737507Z"
    },
    "papermill": {
     "duration": 0.084584,
     "end_time": "2021-09-19T14:19:10.399087",
     "exception": false,
     "start_time": "2021-09-19T14:19:10.314503",
     "status": "completed"
    },
    "tags": []
   },
   "outputs": [
    {
     "name": "stderr",
     "output_type": "stream",
     "text": [
      "/opt/conda/lib/python3.7/site-packages/ipykernel_launcher.py:1: SettingWithCopyWarning: \n",
      "A value is trying to be set on a copy of a slice from a DataFrame.\n",
      "Try using .loc[row_indexer,col_indexer] = value instead\n",
      "\n",
      "See the caveats in the documentation: https://pandas.pydata.org/pandas-docs/stable/user_guide/indexing.html#returning-a-view-versus-a-copy\n",
      "  \"\"\"Entry point for launching an IPython kernel.\n"
     ]
    }
   ],
   "source": [
    "recom['director'] = recom['crew'].apply(director)"
   ]
  },
  {
   "cell_type": "markdown",
   "id": "d9f000f6",
   "metadata": {
    "papermill": {
     "duration": 0.055816,
     "end_time": "2021-09-19T14:19:10.511499",
     "exception": false,
     "start_time": "2021-09-19T14:19:10.455683",
     "status": "completed"
    },
    "tags": []
   },
   "source": [
    "Again, each movie has dozens of actors, not all of them are that important, so we will only pick top three actors in the cast list."
   ]
  },
  {
   "cell_type": "code",
   "execution_count": 28,
   "id": "47e5d014",
   "metadata": {
    "execution": {
     "iopub.execute_input": "2021-09-19T14:19:10.670176Z",
     "iopub.status.busy": "2021-09-19T14:19:10.666497Z",
     "iopub.status.idle": "2021-09-19T14:19:10.674349Z",
     "shell.execute_reply": "2021-09-19T14:19:10.673860Z",
     "shell.execute_reply.started": "2021-09-19T13:58:06.379532Z"
    },
    "papermill": {
     "duration": 0.106069,
     "end_time": "2021-09-19T14:19:10.674485",
     "exception": false,
     "start_time": "2021-09-19T14:19:10.568416",
     "status": "completed"
    },
    "tags": []
   },
   "outputs": [
    {
     "data": {
      "text/plain": [
       "0        [{'cast_id': 14, 'character': 'Woody (voice)',...\n",
       "1        [{'cast_id': 1, 'character': 'Alan Parrish', '...\n",
       "2        [{'cast_id': 2, 'character': 'Max Goldman', 'c...\n",
       "3        [{'cast_id': 1, 'character': 'Savannah 'Vannah...\n",
       "4        [{'cast_id': 1, 'character': 'George Banks', '...\n",
       "                               ...                        \n",
       "40952    [{'cast_id': 1, 'character': 'Henry Cobb', 'cr...\n",
       "41172    [{'cast_id': 0, 'character': 'Rustom Pavri', '...\n",
       "41225    [{'cast_id': 0, 'character': 'Sarman', 'credit...\n",
       "41391    [{'cast_id': 4, 'character': 'Rando Yaguchi : ...\n",
       "41669    [{'cast_id': 0, 'character': 'Himself', 'credi...\n",
       "Name: cast, Length: 9219, dtype: object"
      ]
     },
     "execution_count": 28,
     "metadata": {},
     "output_type": "execute_result"
    }
   ],
   "source": [
    "recom['cast']"
   ]
  },
  {
   "cell_type": "code",
   "execution_count": 29,
   "id": "fa352fe8",
   "metadata": {
    "execution": {
     "iopub.execute_input": "2021-09-19T14:19:10.836763Z",
     "iopub.status.busy": "2021-09-19T14:19:10.831590Z",
     "iopub.status.idle": "2021-09-19T14:19:10.946247Z",
     "shell.execute_reply": "2021-09-19T14:19:10.945602Z",
     "shell.execute_reply.started": "2021-09-19T13:59:20.581748Z"
    },
    "papermill": {
     "duration": 0.215671,
     "end_time": "2021-09-19T14:19:10.946378",
     "exception": false,
     "start_time": "2021-09-19T14:19:10.730707",
     "status": "completed"
    },
    "tags": []
   },
   "outputs": [
    {
     "name": "stderr",
     "output_type": "stream",
     "text": [
      "/opt/conda/lib/python3.7/site-packages/ipykernel_launcher.py:1: SettingWithCopyWarning: \n",
      "A value is trying to be set on a copy of a slice from a DataFrame.\n",
      "Try using .loc[row_indexer,col_indexer] = value instead\n",
      "\n",
      "See the caveats in the documentation: https://pandas.pydata.org/pandas-docs/stable/user_guide/indexing.html#returning-a-view-versus-a-copy\n",
      "  \"\"\"Entry point for launching an IPython kernel.\n",
      "/opt/conda/lib/python3.7/site-packages/ipykernel_launcher.py:2: SettingWithCopyWarning: \n",
      "A value is trying to be set on a copy of a slice from a DataFrame.\n",
      "Try using .loc[row_indexer,col_indexer] = value instead\n",
      "\n",
      "See the caveats in the documentation: https://pandas.pydata.org/pandas-docs/stable/user_guide/indexing.html#returning-a-view-versus-a-copy\n",
      "  \n"
     ]
    }
   ],
   "source": [
    "recom['cast'] = recom['cast'].apply(lambda x: [i['name'] for i in x] if isinstance(x, list) else [])\n",
    "recom['cast'] = recom['cast'].apply(lambda x: x[:3] if len(x) >=3 else x)"
   ]
  },
  {
   "cell_type": "code",
   "execution_count": 30,
   "id": "56c241eb",
   "metadata": {
    "execution": {
     "iopub.execute_input": "2021-09-19T14:19:11.240716Z",
     "iopub.status.busy": "2021-09-19T14:19:11.240057Z",
     "iopub.status.idle": "2021-09-19T14:19:11.243869Z",
     "shell.execute_reply": "2021-09-19T14:19:11.243240Z",
     "shell.execute_reply.started": "2021-09-19T13:59:23.734572Z"
    },
    "papermill": {
     "duration": 0.241085,
     "end_time": "2021-09-19T14:19:11.244013",
     "exception": false,
     "start_time": "2021-09-19T14:19:11.002928",
     "status": "completed"
    },
    "tags": []
   },
   "outputs": [
    {
     "name": "stderr",
     "output_type": "stream",
     "text": [
      "/opt/conda/lib/python3.7/site-packages/ipykernel_launcher.py:1: SettingWithCopyWarning: \n",
      "A value is trying to be set on a copy of a slice from a DataFrame.\n",
      "Try using .loc[row_indexer,col_indexer] = value instead\n",
      "\n",
      "See the caveats in the documentation: https://pandas.pydata.org/pandas-docs/stable/user_guide/indexing.html#returning-a-view-versus-a-copy\n",
      "  \"\"\"Entry point for launching an IPython kernel.\n"
     ]
    }
   ],
   "source": [
    "recom['keywords'] = recom['keywords'].apply(lambda x: [i['name'] for i in x] if isinstance(x, list) else [])"
   ]
  },
  {
   "cell_type": "code",
   "execution_count": 31,
   "id": "bb057a81",
   "metadata": {
    "execution": {
     "iopub.execute_input": "2021-09-19T14:19:11.405257Z",
     "iopub.status.busy": "2021-09-19T14:19:11.404573Z",
     "iopub.status.idle": "2021-09-19T14:19:11.407885Z",
     "shell.execute_reply": "2021-09-19T14:19:11.407259Z",
     "shell.execute_reply.started": "2021-09-19T13:59:26.496251Z"
    },
    "papermill": {
     "duration": 0.106767,
     "end_time": "2021-09-19T14:19:11.408031",
     "exception": false,
     "start_time": "2021-09-19T14:19:11.301264",
     "status": "completed"
    },
    "tags": []
   },
   "outputs": [
    {
     "name": "stderr",
     "output_type": "stream",
     "text": [
      "/opt/conda/lib/python3.7/site-packages/ipykernel_launcher.py:1: SettingWithCopyWarning: \n",
      "A value is trying to be set on a copy of a slice from a DataFrame.\n",
      "Try using .loc[row_indexer,col_indexer] = value instead\n",
      "\n",
      "See the caveats in the documentation: https://pandas.pydata.org/pandas-docs/stable/user_guide/indexing.html#returning-a-view-versus-a-copy\n",
      "  \"\"\"Entry point for launching an IPython kernel.\n"
     ]
    }
   ],
   "source": [
    "recom['cast'] = recom['cast'].apply(lambda x: [str.lower(i.replace(\" \", \"\")) for i in x])"
   ]
  },
  {
   "cell_type": "markdown",
   "id": "3b7a7d7f",
   "metadata": {
    "papermill": {
     "duration": 0.056623,
     "end_time": "2021-09-19T14:19:11.521947",
     "exception": false,
     "start_time": "2021-09-19T14:19:11.465324",
     "status": "completed"
    },
    "tags": []
   },
   "source": [
    "Directors affect the quality of a movie more than any other role, so we will mention the director name three times in order to add to its weight."
   ]
  },
  {
   "cell_type": "code",
   "execution_count": 32,
   "id": "5cf00f90",
   "metadata": {
    "execution": {
     "iopub.execute_input": "2021-09-19T14:19:11.658983Z",
     "iopub.status.busy": "2021-09-19T14:19:11.658028Z",
     "iopub.status.idle": "2021-09-19T14:19:11.661278Z",
     "shell.execute_reply": "2021-09-19T14:19:11.661773Z",
     "shell.execute_reply.started": "2021-09-19T13:59:30.733584Z"
    },
    "papermill": {
     "duration": 0.081874,
     "end_time": "2021-09-19T14:19:11.661933",
     "exception": false,
     "start_time": "2021-09-19T14:19:11.580059",
     "status": "completed"
    },
    "tags": []
   },
   "outputs": [
    {
     "name": "stderr",
     "output_type": "stream",
     "text": [
      "/opt/conda/lib/python3.7/site-packages/ipykernel_launcher.py:1: SettingWithCopyWarning: \n",
      "A value is trying to be set on a copy of a slice from a DataFrame.\n",
      "Try using .loc[row_indexer,col_indexer] = value instead\n",
      "\n",
      "See the caveats in the documentation: https://pandas.pydata.org/pandas-docs/stable/user_guide/indexing.html#returning-a-view-versus-a-copy\n",
      "  \"\"\"Entry point for launching an IPython kernel.\n",
      "/opt/conda/lib/python3.7/site-packages/ipykernel_launcher.py:2: SettingWithCopyWarning: \n",
      "A value is trying to be set on a copy of a slice from a DataFrame.\n",
      "Try using .loc[row_indexer,col_indexer] = value instead\n",
      "\n",
      "See the caveats in the documentation: https://pandas.pydata.org/pandas-docs/stable/user_guide/indexing.html#returning-a-view-versus-a-copy\n",
      "  \n"
     ]
    }
   ],
   "source": [
    "recom['director'] = recom['director'].astype('str').apply(lambda x: str.lower(x.replace(\" \", \"\")))\n",
    "recom['director'] = recom['director'].apply(lambda x: [x,x, x])"
   ]
  },
  {
   "cell_type": "code",
   "execution_count": 33,
   "id": "a1701260",
   "metadata": {
    "execution": {
     "iopub.execute_input": "2021-09-19T14:19:11.793163Z",
     "iopub.status.busy": "2021-09-19T14:19:11.792477Z",
     "iopub.status.idle": "2021-09-19T14:19:15.354551Z",
     "shell.execute_reply": "2021-09-19T14:19:15.355684Z",
     "shell.execute_reply.started": "2021-09-19T14:00:49.220307Z"
    },
    "papermill": {
     "duration": 3.636878,
     "end_time": "2021-09-19T14:19:15.356063",
     "exception": false,
     "start_time": "2021-09-19T14:19:11.719185",
     "status": "completed"
    },
    "tags": []
   },
   "outputs": [
    {
     "name": "stderr",
     "output_type": "stream",
     "text": [
      "/opt/conda/lib/python3.7/site-packages/ipykernel_launcher.py:1: DeprecationWarning: The default dtype for empty Series will be 'object' instead of 'float64' in a future version. Specify a dtype explicitly to silence this warning.\n",
      "  \"\"\"Entry point for launching an IPython kernel.\n"
     ]
    }
   ],
   "source": [
    "keyw = recom.apply(lambda x: pd.Series(x['keywords']),axis=1).stack().reset_index(level=1, drop=True)"
   ]
  },
  {
   "cell_type": "markdown",
   "id": "d5ad4cad",
   "metadata": {
    "papermill": {
     "duration": 0.05831,
     "end_time": "2021-09-19T14:19:15.486319",
     "exception": false,
     "start_time": "2021-09-19T14:19:15.428009",
     "status": "completed"
    },
    "tags": []
   },
   "source": [
    "We will only keep movies with more than two keywords."
   ]
  },
  {
   "cell_type": "code",
   "execution_count": 34,
   "id": "4757699f",
   "metadata": {
    "execution": {
     "iopub.execute_input": "2021-09-19T14:19:15.633406Z",
     "iopub.status.busy": "2021-09-19T14:19:15.632652Z",
     "iopub.status.idle": "2021-09-19T14:19:15.643533Z",
     "shell.execute_reply": "2021-09-19T14:19:15.642859Z",
     "shell.execute_reply.started": "2021-09-19T14:00:54.071596Z"
    },
    "papermill": {
     "duration": 0.099026,
     "end_time": "2021-09-19T14:19:15.643703",
     "exception": false,
     "start_time": "2021-09-19T14:19:15.544677",
     "status": "completed"
    },
    "tags": []
   },
   "outputs": [
    {
     "data": {
      "text/plain": [
       "independent film        610\n",
       "woman director          550\n",
       "murder                  399\n",
       "duringcreditsstinger    327\n",
       "based on novel          318\n",
       "                       ... \n",
       "florence                  3\n",
       "slice of life             3\n",
       "professional sports       3\n",
       "fan culture               3\n",
       "singing in a car          3\n",
       "Length: 4539, dtype: int64"
      ]
     },
     "execution_count": 34,
     "metadata": {},
     "output_type": "execute_result"
    }
   ],
   "source": [
    "keyw = keyw.value_counts()\n",
    "keyw = keyw[keyw > 2]\n",
    "keyw"
   ]
  },
  {
   "cell_type": "code",
   "execution_count": 35,
   "id": "eab23f7b",
   "metadata": {
    "execution": {
     "iopub.execute_input": "2021-09-19T14:19:15.788853Z",
     "iopub.status.busy": "2021-09-19T14:19:15.773284Z",
     "iopub.status.idle": "2021-09-19T14:19:16.949011Z",
     "shell.execute_reply": "2021-09-19T14:19:16.947945Z",
     "shell.execute_reply.started": "2021-09-19T14:01:29.230806Z"
    },
    "papermill": {
     "duration": 1.244485,
     "end_time": "2021-09-19T14:19:16.949282",
     "exception": false,
     "start_time": "2021-09-19T14:19:15.704797",
     "status": "completed"
    },
    "tags": []
   },
   "outputs": [
    {
     "name": "stderr",
     "output_type": "stream",
     "text": [
      "/opt/conda/lib/python3.7/site-packages/ipykernel_launcher.py:8: SettingWithCopyWarning: \n",
      "A value is trying to be set on a copy of a slice from a DataFrame.\n",
      "Try using .loc[row_indexer,col_indexer] = value instead\n",
      "\n",
      "See the caveats in the documentation: https://pandas.pydata.org/pandas-docs/stable/user_guide/indexing.html#returning-a-view-versus-a-copy\n",
      "  \n",
      "/opt/conda/lib/python3.7/site-packages/ipykernel_launcher.py:9: SettingWithCopyWarning: \n",
      "A value is trying to be set on a copy of a slice from a DataFrame.\n",
      "Try using .loc[row_indexer,col_indexer] = value instead\n",
      "\n",
      "See the caveats in the documentation: https://pandas.pydata.org/pandas-docs/stable/user_guide/indexing.html#returning-a-view-versus-a-copy\n",
      "  if __name__ == '__main__':\n",
      "/opt/conda/lib/python3.7/site-packages/ipykernel_launcher.py:10: SettingWithCopyWarning: \n",
      "A value is trying to be set on a copy of a slice from a DataFrame.\n",
      "Try using .loc[row_indexer,col_indexer] = value instead\n",
      "\n",
      "See the caveats in the documentation: https://pandas.pydata.org/pandas-docs/stable/user_guide/indexing.html#returning-a-view-versus-a-copy\n",
      "  # Remove the CWD from sys.path while we load stuff.\n"
     ]
    }
   ],
   "source": [
    "stemmer = SnowballStemmer('english')\n",
    "def fix_keywords(x):\n",
    "    keys = []\n",
    "    for i in x:\n",
    "        if i in keyw:\n",
    "            keys.append(i)\n",
    "    return keys\n",
    "recom['keywords'] = recom['keywords'].apply(fix_keywords)\n",
    "recom['keywords'] = recom['keywords'].apply(lambda x: [stemmer.stem(i) for i in x])\n",
    "recom['keywords'] = recom['keywords'].apply(lambda x: [str.lower(i.replace(\" \", \"\")) for i in x])"
   ]
  },
  {
   "cell_type": "markdown",
   "id": "3d819734",
   "metadata": {
    "papermill": {
     "duration": 0.059702,
     "end_time": "2021-09-19T14:19:17.070606",
     "exception": false,
     "start_time": "2021-09-19T14:19:17.010904",
     "status": "completed"
    },
    "tags": []
   },
   "source": [
    "Now we will create a general columnn that contains all the data we have gathered so far, such as keywords, cast, director and genres of a movie."
   ]
  },
  {
   "cell_type": "code",
   "execution_count": 36,
   "id": "49b12d14",
   "metadata": {
    "execution": {
     "iopub.execute_input": "2021-09-19T14:19:17.196547Z",
     "iopub.status.busy": "2021-09-19T14:19:17.195783Z",
     "iopub.status.idle": "2021-09-19T14:19:17.485044Z",
     "shell.execute_reply": "2021-09-19T14:19:17.485762Z",
     "shell.execute_reply.started": "2021-09-19T14:02:36.891138Z"
    },
    "papermill": {
     "duration": 0.353727,
     "end_time": "2021-09-19T14:19:17.486149",
     "exception": false,
     "start_time": "2021-09-19T14:19:17.132422",
     "status": "completed"
    },
    "tags": []
   },
   "outputs": [
    {
     "name": "stderr",
     "output_type": "stream",
     "text": [
      "/opt/conda/lib/python3.7/site-packages/ipykernel_launcher.py:1: SettingWithCopyWarning: \n",
      "A value is trying to be set on a copy of a slice from a DataFrame.\n",
      "Try using .loc[row_indexer,col_indexer] = value instead\n",
      "\n",
      "See the caveats in the documentation: https://pandas.pydata.org/pandas-docs/stable/user_guide/indexing.html#returning-a-view-versus-a-copy\n",
      "  \"\"\"Entry point for launching an IPython kernel.\n",
      "/opt/conda/lib/python3.7/site-packages/ipykernel_launcher.py:2: SettingWithCopyWarning: \n",
      "A value is trying to be set on a copy of a slice from a DataFrame.\n",
      "Try using .loc[row_indexer,col_indexer] = value instead\n",
      "\n",
      "See the caveats in the documentation: https://pandas.pydata.org/pandas-docs/stable/user_guide/indexing.html#returning-a-view-versus-a-copy\n",
      "  \n"
     ]
    }
   ],
   "source": [
    "recom['overall'] = recom['keywords'] + recom['cast'] + recom['director'] + recom['genresx']\n",
    "recom['overall'] = recom['overall'].apply(lambda x: ' '.join(x))"
   ]
  },
  {
   "cell_type": "markdown",
   "id": "a2486d0f",
   "metadata": {
    "papermill": {
     "duration": 0.059663,
     "end_time": "2021-09-19T14:19:17.608263",
     "exception": false,
     "start_time": "2021-09-19T14:19:17.548600",
     "status": "completed"
    },
    "tags": []
   },
   "source": [
    "Create a count vectorizer:"
   ]
  },
  {
   "cell_type": "code",
   "execution_count": 37,
   "id": "c68df4a8",
   "metadata": {
    "execution": {
     "iopub.execute_input": "2021-09-19T14:19:17.739517Z",
     "iopub.status.busy": "2021-09-19T14:19:17.738807Z",
     "iopub.status.idle": "2021-09-19T14:19:18.687513Z",
     "shell.execute_reply": "2021-09-19T14:19:18.686840Z",
     "shell.execute_reply.started": "2021-09-19T14:02:56.163917Z"
    },
    "papermill": {
     "duration": 1.017499,
     "end_time": "2021-09-19T14:19:18.687690",
     "exception": false,
     "start_time": "2021-09-19T14:19:17.670191",
     "status": "completed"
    },
    "tags": []
   },
   "outputs": [],
   "source": [
    "count = CountVectorizer(analyzer='word',ngram_range=(1, 2),min_df=0, stop_words='english')\n",
    "count_matrix = count.fit_transform(recom['overall'])"
   ]
  },
  {
   "cell_type": "markdown",
   "id": "e066386d",
   "metadata": {
    "papermill": {
     "duration": 0.06057,
     "end_time": "2021-09-19T14:19:18.810167",
     "exception": false,
     "start_time": "2021-09-19T14:19:18.749597",
     "status": "completed"
    },
    "tags": []
   },
   "source": [
    "I will be using the Cosine Similarity to calculate a numeric quantity that denotes the similarity between two movies. Mathematically, it is defined as follows:\n",
    "\n",
    "<math xmlns=\"http://www.w3.org/1998/Math/MathML\">\n",
    "  <mi>c</mi>\n",
    "  <mi>o</mi>\n",
    "  <mi>s</mi>\n",
    "  <mi>i</mi>\n",
    "  <mi>n</mi>\n",
    "  <mi>e</mi>\n",
    "  <mo stretchy=\"false\">(</mo>\n",
    "  <mi>x</mi>\n",
    "  <mo>,</mo>\n",
    "  <mi>y</mi>\n",
    "  <mo stretchy=\"false\">)</mo>\n",
    "  <mo>=</mo>\n",
    "  <mfrac>\n",
    "    <mrow>\n",
    "      <mi>x</mi>\n",
    "      <mo>.</mo>\n",
    "      <msup>\n",
    "        <mi>y</mi>\n",
    "        <mo>&#x22BA;<!-- ⊺ --></mo>\n",
    "      </msup>\n",
    "    </mrow>\n",
    "    <mrow>\n",
    "      <mrow class=\"MJX-TeXAtom-ORD\">\n",
    "        <mo stretchy=\"false\">|</mo>\n",
    "      </mrow>\n",
    "      <mrow class=\"MJX-TeXAtom-ORD\">\n",
    "        <mo stretchy=\"false\">|</mo>\n",
    "      </mrow>\n",
    "      <mi>x</mi>\n",
    "      <mrow class=\"MJX-TeXAtom-ORD\">\n",
    "        <mo stretchy=\"false\">|</mo>\n",
    "      </mrow>\n",
    "      <mrow class=\"MJX-TeXAtom-ORD\">\n",
    "        <mo stretchy=\"false\">|</mo>\n",
    "      </mrow>\n",
    "      <mo>.</mo>\n",
    "      <mrow class=\"MJX-TeXAtom-ORD\">\n",
    "        <mo stretchy=\"false\">|</mo>\n",
    "      </mrow>\n",
    "      <mrow class=\"MJX-TeXAtom-ORD\">\n",
    "        <mo stretchy=\"false\">|</mo>\n",
    "      </mrow>\n",
    "      <mi>y</mi>\n",
    "      <mrow class=\"MJX-TeXAtom-ORD\">\n",
    "        <mo stretchy=\"false\">|</mo>\n",
    "      </mrow>\n",
    "      <mrow class=\"MJX-TeXAtom-ORD\">\n",
    "        <mo stretchy=\"false\">|</mo>\n",
    "      </mrow>\n",
    "    </mrow>\n",
    "  </mfrac>\n",
    "</math>"
   ]
  },
  {
   "cell_type": "code",
   "execution_count": 38,
   "id": "cef8f811",
   "metadata": {
    "execution": {
     "iopub.execute_input": "2021-09-19T14:19:18.936092Z",
     "iopub.status.busy": "2021-09-19T14:19:18.934922Z",
     "iopub.status.idle": "2021-09-19T14:19:20.926123Z",
     "shell.execute_reply": "2021-09-19T14:19:20.926659Z",
     "shell.execute_reply.started": "2021-09-19T14:05:40.623136Z"
    },
    "papermill": {
     "duration": 2.056628,
     "end_time": "2021-09-19T14:19:20.926907",
     "exception": false,
     "start_time": "2021-09-19T14:19:18.870279",
     "status": "completed"
    },
    "tags": []
   },
   "outputs": [],
   "source": [
    "cosine_sim = cosine_similarity(count_matrix, count_matrix)"
   ]
  },
  {
   "cell_type": "code",
   "execution_count": 39,
   "id": "e28fd835",
   "metadata": {
    "execution": {
     "iopub.execute_input": "2021-09-19T14:19:21.055816Z",
     "iopub.status.busy": "2021-09-19T14:19:21.055082Z",
     "iopub.status.idle": "2021-09-19T14:19:21.060915Z",
     "shell.execute_reply": "2021-09-19T14:19:21.061488Z",
     "shell.execute_reply.started": "2021-09-18T23:39:01.132281Z"
    },
    "papermill": {
     "duration": 0.072589,
     "end_time": "2021-09-19T14:19:21.061684",
     "exception": false,
     "start_time": "2021-09-19T14:19:20.989095",
     "status": "completed"
    },
    "tags": []
   },
   "outputs": [],
   "source": [
    "def get_recommendations(title):\n",
    "    idx = indices[title]\n",
    "    sim_scores = list(enumerate(cosine_sim[idx]))\n",
    "    sim_scores = sorted(sim_scores, key=lambda x: x[1], reverse=True)\n",
    "    sim_scores = sim_scores[1:31]\n",
    "    movie_indices = [i[0] for i in sim_scores]\n",
    "    return titles.iloc[movie_indices]"
   ]
  },
  {
   "cell_type": "code",
   "execution_count": 40,
   "id": "22628294",
   "metadata": {
    "execution": {
     "iopub.execute_input": "2021-09-19T14:19:21.187977Z",
     "iopub.status.busy": "2021-09-19T14:19:21.185471Z",
     "iopub.status.idle": "2021-09-19T14:19:21.213585Z",
     "shell.execute_reply": "2021-09-19T14:19:21.212941Z",
     "shell.execute_reply.started": "2021-09-19T14:05:58.766812Z"
    },
    "papermill": {
     "duration": 0.091656,
     "end_time": "2021-09-19T14:19:21.213776",
     "exception": false,
     "start_time": "2021-09-19T14:19:21.122120",
     "status": "completed"
    },
    "tags": []
   },
   "outputs": [],
   "source": [
    "recom = recom.reset_index()\n",
    "titles = recom['title']\n",
    "indices = pd.Series(recom.index, index=recom['title'])"
   ]
  },
  {
   "cell_type": "code",
   "execution_count": 41,
   "id": "6773da33",
   "metadata": {
    "execution": {
     "iopub.execute_input": "2021-09-19T14:19:21.339403Z",
     "iopub.status.busy": "2021-09-19T14:19:21.338340Z",
     "iopub.status.idle": "2021-09-19T14:19:21.436760Z",
     "shell.execute_reply": "2021-09-19T14:19:21.437465Z",
     "shell.execute_reply.started": "2021-09-19T14:06:05.919126Z"
    },
    "papermill": {
     "duration": 0.163586,
     "end_time": "2021-09-19T14:19:21.437685",
     "exception": false,
     "start_time": "2021-09-19T14:19:21.274099",
     "status": "completed"
    },
    "tags": []
   },
   "outputs": [],
   "source": [
    "recom['year'] = pd.to_datetime(recom['release_date'], errors='coerce').apply(lambda x: str(x).split('-')[0] if x != np.nan else np.nan)"
   ]
  },
  {
   "cell_type": "code",
   "execution_count": 42,
   "id": "e51ba601",
   "metadata": {
    "execution": {
     "iopub.execute_input": "2021-09-19T14:19:21.562404Z",
     "iopub.status.busy": "2021-09-19T14:19:21.561398Z",
     "iopub.status.idle": "2021-09-19T14:19:21.569331Z",
     "shell.execute_reply": "2021-09-19T14:19:21.569796Z",
     "shell.execute_reply.started": "2021-09-19T14:06:22.692765Z"
    },
    "papermill": {
     "duration": 0.072355,
     "end_time": "2021-09-19T14:19:21.569999",
     "exception": false,
     "start_time": "2021-09-19T14:19:21.497644",
     "status": "completed"
    },
    "tags": []
   },
   "outputs": [
    {
     "data": {
      "text/plain": [
       "array(['1995', '1994', '1996', '1976', '1992', '1967', '1993', '1964',\n",
       "       '1977', '1965', '1982', '1990', '1991', '1989', '1937', '1940',\n",
       "       '1969', '1981', '1974', '1970', '1960', '1955', '1959', '1968',\n",
       "       '1988', '1948', '1950', '1997', '1956', '1958', '1972', '1953',\n",
       "       '1943', '1952', '1951', '1957', '1961', '1954', '1934', '1944',\n",
       "       '1963', '1942', '1941', '1939', '1946', '1945', '1938', '1947',\n",
       "       '1935', '1936', '1926', '1949', '1932', '1985', '1975', '1971',\n",
       "       '1973', '1979', '1987', '1986', '1980', '1978', '1966', '1962',\n",
       "       '1983', '1984', '1933', '1931', '1922', '1998', '1927', '1929',\n",
       "       '1930', '1928', '1999', '2000', '2012', '1925', '1923', '1918',\n",
       "       '1921', '2001', '1924', '2013', '2002', '2003', '1920', '1915',\n",
       "       '2004', '1916', '1917', '2005', '2006', '1902', '2007', '2008',\n",
       "       '2009', '1919', '2010', '2011', '2016', '2014', '2015'],\n",
       "      dtype=object)"
      ]
     },
     "execution_count": 42,
     "metadata": {},
     "output_type": "execute_result"
    }
   ],
   "source": [
    "recom['year'].unique()"
   ]
  },
  {
   "cell_type": "markdown",
   "id": "1da9d129",
   "metadata": {
    "papermill": {
     "duration": 0.06124,
     "end_time": "2021-09-19T14:19:21.691330",
     "exception": false,
     "start_time": "2021-09-19T14:19:21.630090",
     "status": "completed"
    },
    "tags": []
   },
   "source": [
    "Now we will be using ratings to filter the results, we don't want a bad movie to show to a user even if they like the genre and the director of that movie. I will use IMDB's weighted rating formula to weight the ratings. Mathematically, it is represented as follows:"
   ]
  },
  {
   "cell_type": "markdown",
   "id": "e4b1f0da",
   "metadata": {
    "papermill": {
     "duration": 0.059778,
     "end_time": "2021-09-19T14:19:21.811753",
     "exception": false,
     "start_time": "2021-09-19T14:19:21.751975",
     "status": "completed"
    },
    "tags": []
   },
   "source": [
    "<a href=\"https://imgbb.com/\"><img src=\"https://i.ibb.co/1m8Yzbq/eq.jpg\" alt=\"eq\" border=\"0\"></a>"
   ]
  },
  {
   "cell_type": "markdown",
   "id": "b50b044d",
   "metadata": {
    "papermill": {
     "duration": 0.059901,
     "end_time": "2021-09-19T14:19:21.932133",
     "exception": false,
     "start_time": "2021-09-19T14:19:21.872232",
     "status": "completed"
    },
    "tags": []
   },
   "source": [
    "* v is the number of votes for the movie <br/>\n",
    "* m is the minimum votes required to be listed in the chart <br/>\n",
    "* R is the average rating of the movie <br/>\n",
    "* C is the mean vote across the whole report"
   ]
  },
  {
   "cell_type": "code",
   "execution_count": 43,
   "id": "c5b374d3",
   "metadata": {
    "execution": {
     "iopub.execute_input": "2021-09-19T14:19:22.056746Z",
     "iopub.status.busy": "2021-09-19T14:19:22.055789Z",
     "iopub.status.idle": "2021-09-19T14:19:22.100183Z",
     "shell.execute_reply": "2021-09-19T14:19:22.099524Z",
     "shell.execute_reply.started": "2021-09-19T14:14:17.698475Z"
    },
    "papermill": {
     "duration": 0.108142,
     "end_time": "2021-09-19T14:19:22.100382",
     "exception": false,
     "start_time": "2021-09-19T14:19:21.992240",
     "status": "completed"
    },
    "tags": []
   },
   "outputs": [],
   "source": [
    "vote_counts = recom[recom['vote_count'].notnull()]['vote_count'].astype('int')\n",
    "vote_averages = recom[recom['vote_average'].notnull()]['vote_average'].astype('int')\n",
    "C = vote_averages.mean()\n",
    "m = vote_counts.quantile(0.95)\n",
    "def weighted_rating(x):\n",
    "    v = x['vote_count']\n",
    "    R = x['vote_average']\n",
    "    return (v/(v+m) * R) + (m/(m+v) * C)"
   ]
  },
  {
   "cell_type": "code",
   "execution_count": 44,
   "id": "aee4f4d7",
   "metadata": {
    "execution": {
     "iopub.execute_input": "2021-09-19T14:19:22.225869Z",
     "iopub.status.busy": "2021-09-19T14:19:22.224805Z",
     "iopub.status.idle": "2021-09-19T14:19:22.234977Z",
     "shell.execute_reply": "2021-09-19T14:19:22.235448Z",
     "shell.execute_reply.started": "2021-09-19T14:14:57.775491Z"
    },
    "papermill": {
     "duration": 0.074691,
     "end_time": "2021-09-19T14:19:22.235656",
     "exception": false,
     "start_time": "2021-09-19T14:19:22.160965",
     "status": "completed"
    },
    "tags": []
   },
   "outputs": [],
   "source": [
    "def recommender_system(title):\n",
    "    idx = indices[title]\n",
    "    sim_scores = list(enumerate(cosine_sim[idx]))\n",
    "    sim_scores = sorted(sim_scores, key=lambda x: x[1], reverse=True)\n",
    "    sim_scores = sim_scores[1:26]\n",
    "    movie_indices = [i[0] for i in sim_scores]\n",
    "    \n",
    "    movies = recom.iloc[movie_indices][['title', 'vote_count', 'vote_average', 'year']]\n",
    "    vote_counts = movies[movies['vote_count'].notnull()]['vote_count'].astype('int')\n",
    "    vote_averages = movies[movies['vote_average'].notnull()]['vote_average'].astype('int')\n",
    "    C = vote_averages.mean()\n",
    "    m = vote_counts.quantile(0.60)\n",
    "    qualified = movies[(movies['vote_count'] >= m) & (movies['vote_count'].notnull()) & (movies['vote_average'].notnull())]\n",
    "    qualified['vote_count'] = qualified['vote_count'].astype('int')\n",
    "    qualified['vote_average'] = qualified['vote_average'].astype('int')\n",
    "    qualified['wr'] = qualified.apply(weighted_rating, axis=1)\n",
    "    qualified = qualified.sort_values('wr', ascending=False).head(10)\n",
    "    return qualified"
   ]
  },
  {
   "cell_type": "code",
   "execution_count": 45,
   "id": "1c8b7337",
   "metadata": {
    "execution": {
     "iopub.execute_input": "2021-09-19T14:19:22.361054Z",
     "iopub.status.busy": "2021-09-19T14:19:22.360098Z",
     "iopub.status.idle": "2021-09-19T14:19:22.399175Z",
     "shell.execute_reply": "2021-09-19T14:19:22.399655Z",
     "shell.execute_reply.started": "2021-09-19T14:15:07.052144Z"
    },
    "papermill": {
     "duration": 0.104327,
     "end_time": "2021-09-19T14:19:22.399859",
     "exception": false,
     "start_time": "2021-09-19T14:19:22.295532",
     "status": "completed"
    },
    "tags": []
   },
   "outputs": [
    {
     "name": "stderr",
     "output_type": "stream",
     "text": [
      "/opt/conda/lib/python3.7/site-packages/ipykernel_launcher.py:14: SettingWithCopyWarning: \n",
      "A value is trying to be set on a copy of a slice from a DataFrame.\n",
      "Try using .loc[row_indexer,col_indexer] = value instead\n",
      "\n",
      "See the caveats in the documentation: https://pandas.pydata.org/pandas-docs/stable/user_guide/indexing.html#returning-a-view-versus-a-copy\n",
      "  \n",
      "/opt/conda/lib/python3.7/site-packages/ipykernel_launcher.py:15: SettingWithCopyWarning: \n",
      "A value is trying to be set on a copy of a slice from a DataFrame.\n",
      "Try using .loc[row_indexer,col_indexer] = value instead\n",
      "\n",
      "See the caveats in the documentation: https://pandas.pydata.org/pandas-docs/stable/user_guide/indexing.html#returning-a-view-versus-a-copy\n",
      "  from ipykernel import kernelapp as app\n",
      "/opt/conda/lib/python3.7/site-packages/ipykernel_launcher.py:16: SettingWithCopyWarning: \n",
      "A value is trying to be set on a copy of a slice from a DataFrame.\n",
      "Try using .loc[row_indexer,col_indexer] = value instead\n",
      "\n",
      "See the caveats in the documentation: https://pandas.pydata.org/pandas-docs/stable/user_guide/indexing.html#returning-a-view-versus-a-copy\n",
      "  app.launch_new_instance()\n"
     ]
    },
    {
     "data": {
      "text/html": [
       "<div>\n",
       "<style scoped>\n",
       "    .dataframe tbody tr th:only-of-type {\n",
       "        vertical-align: middle;\n",
       "    }\n",
       "\n",
       "    .dataframe tbody tr th {\n",
       "        vertical-align: top;\n",
       "    }\n",
       "\n",
       "    .dataframe thead th {\n",
       "        text-align: right;\n",
       "    }\n",
       "</style>\n",
       "<table border=\"1\" class=\"dataframe\">\n",
       "  <thead>\n",
       "    <tr style=\"text-align: right;\">\n",
       "      <th></th>\n",
       "      <th>title</th>\n",
       "      <th>vote_count</th>\n",
       "      <th>vote_average</th>\n",
       "      <th>year</th>\n",
       "      <th>wr</th>\n",
       "    </tr>\n",
       "  </thead>\n",
       "  <tbody>\n",
       "    <tr>\n",
       "      <th>7648</th>\n",
       "      <td>Inception</td>\n",
       "      <td>14075</td>\n",
       "      <td>8</td>\n",
       "      <td>2010</td>\n",
       "      <td>7.732796</td>\n",
       "    </tr>\n",
       "    <tr>\n",
       "      <th>8613</th>\n",
       "      <td>Interstellar</td>\n",
       "      <td>11187</td>\n",
       "      <td>8</td>\n",
       "      <td>2014</td>\n",
       "      <td>7.674561</td>\n",
       "    </tr>\n",
       "    <tr>\n",
       "      <th>6623</th>\n",
       "      <td>The Prestige</td>\n",
       "      <td>4510</td>\n",
       "      <td>8</td>\n",
       "      <td>2006</td>\n",
       "      <td>7.344034</td>\n",
       "    </tr>\n",
       "    <tr>\n",
       "      <th>3381</th>\n",
       "      <td>Memento</td>\n",
       "      <td>4168</td>\n",
       "      <td>8</td>\n",
       "      <td>2000</td>\n",
       "      <td>7.308037</td>\n",
       "    </tr>\n",
       "    <tr>\n",
       "      <th>8031</th>\n",
       "      <td>The Dark Knight Rises</td>\n",
       "      <td>9263</td>\n",
       "      <td>7</td>\n",
       "      <td>2012</td>\n",
       "      <td>6.801517</td>\n",
       "    </tr>\n",
       "    <tr>\n",
       "      <th>6218</th>\n",
       "      <td>Batman Begins</td>\n",
       "      <td>7511</td>\n",
       "      <td>7</td>\n",
       "      <td>2005</td>\n",
       "      <td>6.765201</td>\n",
       "    </tr>\n",
       "    <tr>\n",
       "      <th>1134</th>\n",
       "      <td>Batman Returns</td>\n",
       "      <td>1706</td>\n",
       "      <td>6</td>\n",
       "      <td>1992</td>\n",
       "      <td>5.951183</td>\n",
       "    </tr>\n",
       "    <tr>\n",
       "      <th>132</th>\n",
       "      <td>Batman Forever</td>\n",
       "      <td>1529</td>\n",
       "      <td>5</td>\n",
       "      <td>1995</td>\n",
       "      <td>5.523252</td>\n",
       "    </tr>\n",
       "    <tr>\n",
       "      <th>9024</th>\n",
       "      <td>Batman v Superman: Dawn of Justice</td>\n",
       "      <td>7189</td>\n",
       "      <td>5</td>\n",
       "      <td>2016</td>\n",
       "      <td>5.203189</td>\n",
       "    </tr>\n",
       "    <tr>\n",
       "      <th>1260</th>\n",
       "      <td>Batman &amp; Robin</td>\n",
       "      <td>1447</td>\n",
       "      <td>4</td>\n",
       "      <td>1997</td>\n",
       "      <td>5.123362</td>\n",
       "    </tr>\n",
       "  </tbody>\n",
       "</table>\n",
       "</div>"
      ],
      "text/plain": [
       "                                   title  vote_count  vote_average  year  \\\n",
       "7648                           Inception       14075             8  2010   \n",
       "8613                        Interstellar       11187             8  2014   \n",
       "6623                        The Prestige        4510             8  2006   \n",
       "3381                             Memento        4168             8  2000   \n",
       "8031               The Dark Knight Rises        9263             7  2012   \n",
       "6218                       Batman Begins        7511             7  2005   \n",
       "1134                      Batman Returns        1706             6  1992   \n",
       "132                       Batman Forever        1529             5  1995   \n",
       "9024  Batman v Superman: Dawn of Justice        7189             5  2016   \n",
       "1260                      Batman & Robin        1447             4  1997   \n",
       "\n",
       "            wr  \n",
       "7648  7.732796  \n",
       "8613  7.674561  \n",
       "6623  7.344034  \n",
       "3381  7.308037  \n",
       "8031  6.801517  \n",
       "6218  6.765201  \n",
       "1134  5.951183  \n",
       "132   5.523252  \n",
       "9024  5.203189  \n",
       "1260  5.123362  "
      ]
     },
     "execution_count": 45,
     "metadata": {},
     "output_type": "execute_result"
    }
   ],
   "source": [
    "recommender_system('The Dark Knight')"
   ]
  },
  {
   "cell_type": "markdown",
   "id": "85520b9f",
   "metadata": {
    "papermill": {
     "duration": 0.060873,
     "end_time": "2021-09-19T14:19:22.521425",
     "exception": false,
     "start_time": "2021-09-19T14:19:22.460552",
     "status": "completed"
    },
    "tags": []
   },
   "source": [
    "## Recommendation:\n",
    "I would recommend to anyone who is learning how to create recommender systems to read this notebook: https://www.kaggle.com/rounakbanik/movie-recommender-systems\n",
    "It is well explained and the writer used multiple examples, als they used collaborative filtering the enables the possibility to classifiy the suggestions based on the user's prefereneces."
   ]
  },
  {
   "cell_type": "markdown",
   "id": "700665eb",
   "metadata": {
    "papermill": {
     "duration": 0.06082,
     "end_time": "2021-09-19T14:19:22.643570",
     "exception": false,
     "start_time": "2021-09-19T14:19:22.582750",
     "status": "completed"
    },
    "tags": []
   },
   "source": [
    "### Omar El Yousfi\n",
    "### elyousfiomarr@gmail.com"
   ]
  }
 ],
 "metadata": {
  "kernelspec": {
   "display_name": "Python 3",
   "language": "python",
   "name": "python3"
  },
  "language_info": {
   "codemirror_mode": {
    "name": "ipython",
    "version": 3
   },
   "file_extension": ".py",
   "mimetype": "text/x-python",
   "name": "python",
   "nbconvert_exporter": "python",
   "pygments_lexer": "ipython3",
   "version": "3.7.10"
  },
  "papermill": {
   "default_parameters": {},
   "duration": 51.874855,
   "end_time": "2021-09-19T14:19:24.693174",
   "environment_variables": {},
   "exception": null,
   "input_path": "__notebook__.ipynb",
   "output_path": "__notebook__.ipynb",
   "parameters": {},
   "start_time": "2021-09-19T14:18:32.818319",
   "version": "2.3.3"
  }
 },
 "nbformat": 4,
 "nbformat_minor": 5
}
